{
 "cells": [
  {
   "cell_type": "markdown",
   "metadata": {
    "id": "Gc2KKH9z0jLa"
   },
   "source": [
    "# **Word Embedding Techniques using Embedding Layer in Keras**"
   ]
  },
  {
   "cell_type": "code",
   "execution_count": 1,
   "metadata": {
    "id": "-ot0oIr-0UQA"
   },
   "outputs": [
    {
     "name": "stderr",
     "output_type": "stream",
     "text": [
      "2022-12-09 17:37:24.877570: I tensorflow/core/platform/cpu_feature_guard.cc:193] This TensorFlow binary is optimized with oneAPI Deep Neural Network Library (oneDNN) to use the following CPU instructions in performance-critical operations:  AVX2 FMA\n",
      "To enable them in other operations, rebuild TensorFlow with the appropriate compiler flags.\n",
      "2022-12-09 17:37:25.038578: W tensorflow/compiler/xla/stream_executor/platform/default/dso_loader.cc:64] Could not load dynamic library 'libcudart.so.11.0'; dlerror: libcudart.so.11.0: cannot open shared object file: No such file or directory; LD_LIBRARY_PATH: /usr/lib/mesa-diverted/x86_64-linux-gnu:/usr/lib/x86_64-linux-gnu/mesa:/usr/lib/x86_64-linux-gnu/dri:/usr/lib/x86_64-linux-gnu/gallium-pipe\n",
      "2022-12-09 17:37:25.038602: I tensorflow/compiler/xla/stream_executor/cuda/cudart_stub.cc:29] Ignore above cudart dlerror if you do not have a GPU set up on your machine.\n",
      "2022-12-09 17:37:25.904298: W tensorflow/compiler/xla/stream_executor/platform/default/dso_loader.cc:64] Could not load dynamic library 'libnvinfer.so.7'; dlerror: libnvinfer.so.7: cannot open shared object file: No such file or directory; LD_LIBRARY_PATH: /usr/lib/mesa-diverted/x86_64-linux-gnu:/usr/lib/x86_64-linux-gnu/mesa:/usr/lib/x86_64-linux-gnu/dri:/usr/lib/x86_64-linux-gnu/gallium-pipe\n",
      "2022-12-09 17:37:25.904399: W tensorflow/compiler/xla/stream_executor/platform/default/dso_loader.cc:64] Could not load dynamic library 'libnvinfer_plugin.so.7'; dlerror: libnvinfer_plugin.so.7: cannot open shared object file: No such file or directory; LD_LIBRARY_PATH: /usr/lib/mesa-diverted/x86_64-linux-gnu:/usr/lib/x86_64-linux-gnu/mesa:/usr/lib/x86_64-linux-gnu/dri:/usr/lib/x86_64-linux-gnu/gallium-pipe\n",
      "2022-12-09 17:37:25.904408: W tensorflow/compiler/tf2tensorrt/utils/py_utils.cc:38] TF-TRT Warning: Cannot dlopen some TensorRT libraries. If you would like to use Nvidia GPU with TensorRT, please make sure the missing libraries mentioned above are installed properly.\n"
     ]
    },
    {
     "name": "stdout",
     "output_type": "stream",
     "text": [
      "2.11.0\n"
     ]
    }
   ],
   "source": [
    "import tensorflow as tf\n",
    "print(tf.__version__)"
   ]
  },
  {
   "cell_type": "code",
   "execution_count": 2,
   "metadata": {
    "id": "mpLsdzdc12qh"
   },
   "outputs": [],
   "source": [
    "sentences = ['Marvel series is my favourite movie',\n",
    "              'the cup of coffee',\n",
    "              'the cup of tea',\n",
    "              'I am working as subject matter expert',\n",
    "              'I am a good developer',\n",
    "              'the cat is eating the food',\n",
    "              'your lectures are good']"
   ]
  },
  {
   "cell_type": "code",
   "execution_count": 3,
   "metadata": {
    "id": "cHMsZk8i197Q"
   },
   "outputs": [
    {
     "data": {
      "text/plain": [
       "['Marvel series is my favourite movie',\n",
       " 'the cup of coffee',\n",
       " 'the cup of tea',\n",
       " 'I am working as subject matter expert',\n",
       " 'I am a good developer',\n",
       " 'the cat is eating the food',\n",
       " 'your lectures are good']"
      ]
     },
     "execution_count": 3,
     "metadata": {},
     "output_type": "execute_result"
    }
   ],
   "source": [
    "sentences"
   ]
  },
  {
   "cell_type": "code",
   "execution_count": 4,
   "metadata": {
    "id": "a3Os5-WT2DUY"
   },
   "outputs": [],
   "source": [
    "voc_size = 500"
   ]
  },
  {
   "cell_type": "code",
   "execution_count": 5,
   "metadata": {
    "id": "63-fogRy2IAA"
   },
   "outputs": [],
   "source": [
    "from tensorflow.keras.preprocessing.text import one_hot\n",
    "\n",
    "onehot_repr = [one_hot(words,voc_size) for words in sentences] "
   ]
  },
  {
   "cell_type": "code",
   "execution_count": 6,
   "metadata": {
    "id": "43YhYNxQ2OnQ"
   },
   "outputs": [
    {
     "data": {
      "text/plain": [
       "[[67, 355, 143, 141, 29, 291],\n",
       " [384, 208, 56, 408],\n",
       " [384, 208, 56, 418],\n",
       " [268, 37, 342, 139, 348, 98, 235],\n",
       " [268, 37, 473, 7, 44],\n",
       " [384, 12, 143, 19, 384, 144],\n",
       " [497, 120, 196, 7]]"
      ]
     },
     "execution_count": 6,
     "metadata": {},
     "output_type": "execute_result"
    }
   ],
   "source": [
    "onehot_repr"
   ]
  },
  {
   "cell_type": "code",
   "execution_count": 7,
   "metadata": {
    "id": "fW7naGpq2Upy"
   },
   "outputs": [],
   "source": [
    "from tensorflow.keras.layers import Embedding\n",
    "from tensorflow.keras.preprocessing.sequence import pad_sequences\n",
    "from tensorflow.keras.models import Sequential"
   ]
  },
  {
   "cell_type": "code",
   "execution_count": 8,
   "metadata": {
    "id": "K_rEOiN-2dLg"
   },
   "outputs": [],
   "source": [
    "sent_length = 8\n",
    "embedded_docs = pad_sequences(onehot_repr, padding='pre', maxlen=sent_length)"
   ]
  },
  {
   "cell_type": "code",
   "execution_count": 9,
   "metadata": {
    "id": "7Y5GEhNu2um7"
   },
   "outputs": [
    {
     "name": "stdout",
     "output_type": "stream",
     "text": [
      "[[  0   0  67 355 143 141  29 291]\n",
      " [  0   0   0   0 384 208  56 408]\n",
      " [  0   0   0   0 384 208  56 418]\n",
      " [  0 268  37 342 139 348  98 235]\n",
      " [  0   0   0 268  37 473   7  44]\n",
      " [  0   0 384  12 143  19 384 144]\n",
      " [  0   0   0   0 497 120 196   7]]\n"
     ]
    }
   ],
   "source": [
    "print(embedded_docs)"
   ]
  },
  {
   "cell_type": "code",
   "execution_count": 10,
   "metadata": {
    "id": "RCny2zoW2yqZ"
   },
   "outputs": [],
   "source": [
    "dim = 10"
   ]
  },
  {
   "cell_type": "code",
   "execution_count": 11,
   "metadata": {
    "id": "eZ_9Z_XU24P6"
   },
   "outputs": [
    {
     "name": "stderr",
     "output_type": "stream",
     "text": [
      "2022-12-09 17:37:27.356569: W tensorflow/compiler/xla/stream_executor/platform/default/dso_loader.cc:64] Could not load dynamic library 'libcuda.so.1'; dlerror: libcuda.so.1: cannot open shared object file: No such file or directory; LD_LIBRARY_PATH: /usr/lib/mesa-diverted/x86_64-linux-gnu:/usr/lib/x86_64-linux-gnu/mesa:/usr/lib/x86_64-linux-gnu/dri:/usr/lib/x86_64-linux-gnu/gallium-pipe\n",
      "2022-12-09 17:37:27.356630: W tensorflow/compiler/xla/stream_executor/cuda/cuda_driver.cc:265] failed call to cuInit: UNKNOWN ERROR (303)\n",
      "2022-12-09 17:37:27.356666: I tensorflow/compiler/xla/stream_executor/cuda/cuda_diagnostics.cc:156] kernel driver does not appear to be running on this host (hpeprereq-1.us-central1-a.c.deloitte-2022.internal): /proc/driver/nvidia/version does not exist\n",
      "2022-12-09 17:37:27.357026: I tensorflow/core/platform/cpu_feature_guard.cc:193] This TensorFlow binary is optimized with oneAPI Deep Neural Network Library (oneDNN) to use the following CPU instructions in performance-critical operations:  AVX2 FMA\n",
      "To enable them in other operations, rebuild TensorFlow with the appropriate compiler flags.\n"
     ]
    }
   ],
   "source": [
    "model = Sequential()\n",
    "model.add(Embedding(voc_size, 10, input_length=sent_length))\n",
    "model.compile('adam','mse')"
   ]
  },
  {
   "cell_type": "code",
   "execution_count": 12,
   "metadata": {
    "id": "-R_yD57K2_o5"
   },
   "outputs": [
    {
     "name": "stdout",
     "output_type": "stream",
     "text": [
      "Model: \"sequential\"\n",
      "_________________________________________________________________\n",
      " Layer (type)                Output Shape              Param #   \n",
      "=================================================================\n",
      " embedding (Embedding)       (None, 8, 10)             5000      \n",
      "                                                                 \n",
      "=================================================================\n",
      "Total params: 5,000\n",
      "Trainable params: 5,000\n",
      "Non-trainable params: 0\n",
      "_________________________________________________________________\n"
     ]
    }
   ],
   "source": [
    "model.summary()"
   ]
  },
  {
   "cell_type": "code",
   "execution_count": 13,
   "metadata": {
    "id": "FBigk57HJmk-"
   },
   "outputs": [
    {
     "name": "stdout",
     "output_type": "stream",
     "text": [
      "1/1 [==============================] - 0s 96ms/step\n",
      "[[[ 0.0466722   0.00823305  0.02065333 -0.03314508  0.01638866\n",
      "    0.03044219 -0.01811396  0.02652207 -0.00379852  0.01625795]\n",
      "  [ 0.0466722   0.00823305  0.02065333 -0.03314508  0.01638866\n",
      "    0.03044219 -0.01811396  0.02652207 -0.00379852  0.01625795]\n",
      "  [-0.01347943 -0.01941012 -0.00099878  0.04674285 -0.04466426\n",
      "   -0.03067918  0.04598016 -0.01262902 -0.01197134  0.04788223]\n",
      "  [ 0.03858839 -0.01758027  0.00371774 -0.03447851  0.02703622\n",
      "   -0.00458044  0.03935471 -0.00957811 -0.00212612 -0.00752354]\n",
      "  [ 0.01604256 -0.03107025  0.01575447 -0.04786141 -0.01812332\n",
      "   -0.01901939 -0.04348482 -0.04283757  0.00165344  0.04700509]\n",
      "  [ 0.00397017  0.04241543  0.03485955 -0.03842328  0.01302835\n",
      "   -0.00483058 -0.00792034 -0.04794048  0.03393799  0.02600821]\n",
      "  [ 0.02286165 -0.0255911   0.00616083  0.03417151  0.03621553\n",
      "   -0.01471814  0.00256534  0.04045555 -0.0345006   0.02770771]\n",
      "  [-0.01555651 -0.02091603 -0.042944    0.03772041 -0.03510829\n",
      "   -0.00782859 -0.01623076  0.00764247  0.01376667  0.03575159]]\n",
      "\n",
      " [[ 0.0466722   0.00823305  0.02065333 -0.03314508  0.01638866\n",
      "    0.03044219 -0.01811396  0.02652207 -0.00379852  0.01625795]\n",
      "  [ 0.0466722   0.00823305  0.02065333 -0.03314508  0.01638866\n",
      "    0.03044219 -0.01811396  0.02652207 -0.00379852  0.01625795]\n",
      "  [ 0.0466722   0.00823305  0.02065333 -0.03314508  0.01638866\n",
      "    0.03044219 -0.01811396  0.02652207 -0.00379852  0.01625795]\n",
      "  [ 0.0466722   0.00823305  0.02065333 -0.03314508  0.01638866\n",
      "    0.03044219 -0.01811396  0.02652207 -0.00379852  0.01625795]\n",
      "  [ 0.02991987 -0.01807724 -0.02722819  0.03823859 -0.02533263\n",
      "   -0.04472933 -0.01807325 -0.00166184  0.03951173 -0.04151781]\n",
      "  [-0.00552453 -0.0144368   0.02065635  0.01449135 -0.02809265\n",
      "   -0.02824851 -0.04970282  0.0082232   0.00054317 -0.03123847]\n",
      "  [ 0.00560361  0.03826321  0.02022396  0.00037863  0.04720522\n",
      "   -0.02400583 -0.0094129  -0.01274779 -0.0451793  -0.03353826]\n",
      "  [ 0.01273106  0.00841679  0.03165741  0.03364608 -0.03594968\n",
      "    0.03934075 -0.02046404 -0.03536529 -0.0092987   0.02851014]]\n",
      "\n",
      " [[ 0.0466722   0.00823305  0.02065333 -0.03314508  0.01638866\n",
      "    0.03044219 -0.01811396  0.02652207 -0.00379852  0.01625795]\n",
      "  [ 0.0466722   0.00823305  0.02065333 -0.03314508  0.01638866\n",
      "    0.03044219 -0.01811396  0.02652207 -0.00379852  0.01625795]\n",
      "  [ 0.0466722   0.00823305  0.02065333 -0.03314508  0.01638866\n",
      "    0.03044219 -0.01811396  0.02652207 -0.00379852  0.01625795]\n",
      "  [ 0.0466722   0.00823305  0.02065333 -0.03314508  0.01638866\n",
      "    0.03044219 -0.01811396  0.02652207 -0.00379852  0.01625795]\n",
      "  [ 0.02991987 -0.01807724 -0.02722819  0.03823859 -0.02533263\n",
      "   -0.04472933 -0.01807325 -0.00166184  0.03951173 -0.04151781]\n",
      "  [-0.00552453 -0.0144368   0.02065635  0.01449135 -0.02809265\n",
      "   -0.02824851 -0.04970282  0.0082232   0.00054317 -0.03123847]\n",
      "  [ 0.00560361  0.03826321  0.02022396  0.00037863  0.04720522\n",
      "   -0.02400583 -0.0094129  -0.01274779 -0.0451793  -0.03353826]\n",
      "  [ 0.01246057 -0.04554061 -0.04937747 -0.03183764  0.03037037\n",
      "   -0.03288764 -0.04047738  0.01034882  0.02086108 -0.04185593]]\n",
      "\n",
      " [[ 0.0466722   0.00823305  0.02065333 -0.03314508  0.01638866\n",
      "    0.03044219 -0.01811396  0.02652207 -0.00379852  0.01625795]\n",
      "  [ 0.00572767 -0.01742454 -0.03280395 -0.01089461  0.03216919\n",
      "   -0.00766376 -0.02701326 -0.02428463 -0.0376583  -0.00816138]\n",
      "  [ 0.04957093 -0.01342993  0.02961732 -0.00988784 -0.00558037\n",
      "    0.04769624 -0.02329638  0.03163781 -0.02518972 -0.00698495]\n",
      "  [-0.04038144 -0.01088171 -0.0288919   0.00153465 -0.02123745\n",
      "    0.01202347  0.04678433  0.01821235 -0.0495283   0.00832848]\n",
      "  [-0.00943996  0.02041744 -0.0263533   0.02155146 -0.00533508\n",
      "    0.04069347  0.03575242  0.00716822  0.02360094  0.00280377]\n",
      "  [ 0.00404787  0.03897622 -0.00874235 -0.0147155  -0.0022712\n",
      "   -0.00230273  0.02690377  0.01044483 -0.02793667 -0.04528058]\n",
      "  [-0.01886582  0.00198063  0.01496816 -0.00316235  0.01138628\n",
      "    0.04519173  0.00542482  0.00780209 -0.02382169  0.00205918]\n",
      "  [ 0.02464098 -0.0124274  -0.00904787  0.03871379 -0.04077715\n",
      "   -0.01241218 -0.01293472 -0.03430132  0.01111411 -0.03698238]]\n",
      "\n",
      " [[ 0.0466722   0.00823305  0.02065333 -0.03314508  0.01638866\n",
      "    0.03044219 -0.01811396  0.02652207 -0.00379852  0.01625795]\n",
      "  [ 0.0466722   0.00823305  0.02065333 -0.03314508  0.01638866\n",
      "    0.03044219 -0.01811396  0.02652207 -0.00379852  0.01625795]\n",
      "  [ 0.0466722   0.00823305  0.02065333 -0.03314508  0.01638866\n",
      "    0.03044219 -0.01811396  0.02652207 -0.00379852  0.01625795]\n",
      "  [ 0.00572767 -0.01742454 -0.03280395 -0.01089461  0.03216919\n",
      "   -0.00766376 -0.02701326 -0.02428463 -0.0376583  -0.00816138]\n",
      "  [ 0.04957093 -0.01342993  0.02961732 -0.00988784 -0.00558037\n",
      "    0.04769624 -0.02329638  0.03163781 -0.02518972 -0.00698495]\n",
      "  [-0.04686879 -0.04646119  0.00692163 -0.01651237 -0.03623309\n",
      "    0.04729774 -0.02794397  0.01669768  0.01012158  0.02900337]\n",
      "  [-0.01994692 -0.03775616 -0.0276296   0.01722684 -0.04786852\n",
      "   -0.01092392  0.01942894 -0.00682078 -0.01388458 -0.01086284]\n",
      "  [ 0.01894435 -0.04229036  0.02850181  0.0090377   0.04876653\n",
      "    0.01076654  0.04736228  0.01569978 -0.04489456 -0.01584864]]\n",
      "\n",
      " [[ 0.0466722   0.00823305  0.02065333 -0.03314508  0.01638866\n",
      "    0.03044219 -0.01811396  0.02652207 -0.00379852  0.01625795]\n",
      "  [ 0.0466722   0.00823305  0.02065333 -0.03314508  0.01638866\n",
      "    0.03044219 -0.01811396  0.02652207 -0.00379852  0.01625795]\n",
      "  [ 0.02991987 -0.01807724 -0.02722819  0.03823859 -0.02533263\n",
      "   -0.04472933 -0.01807325 -0.00166184  0.03951173 -0.04151781]\n",
      "  [-0.03110836 -0.01137024 -0.0487846  -0.03615353 -0.00285323\n",
      "    0.00185619 -0.0099753  -0.00669106  0.03757611  0.00983442]\n",
      "  [ 0.01604256 -0.03107025  0.01575447 -0.04786141 -0.01812332\n",
      "   -0.01901939 -0.04348482 -0.04283757  0.00165344  0.04700509]\n",
      "  [ 0.01663316  0.01058824  0.0378546   0.03135499  0.02725253\n",
      "   -0.00184387 -0.02790539  0.03448734 -0.01503795  0.04872698]\n",
      "  [ 0.02991987 -0.01807724 -0.02722819  0.03823859 -0.02533263\n",
      "   -0.04472933 -0.01807325 -0.00166184  0.03951173 -0.04151781]\n",
      "  [ 0.02194596  0.02631179  0.02559454  0.01519966  0.04727478\n",
      "    0.02031035 -0.03387094  0.00841211 -0.00809525 -0.02639867]]\n",
      "\n",
      " [[ 0.0466722   0.00823305  0.02065333 -0.03314508  0.01638866\n",
      "    0.03044219 -0.01811396  0.02652207 -0.00379852  0.01625795]\n",
      "  [ 0.0466722   0.00823305  0.02065333 -0.03314508  0.01638866\n",
      "    0.03044219 -0.01811396  0.02652207 -0.00379852  0.01625795]\n",
      "  [ 0.0466722   0.00823305  0.02065333 -0.03314508  0.01638866\n",
      "    0.03044219 -0.01811396  0.02652207 -0.00379852  0.01625795]\n",
      "  [ 0.0466722   0.00823305  0.02065333 -0.03314508  0.01638866\n",
      "    0.03044219 -0.01811396  0.02652207 -0.00379852  0.01625795]\n",
      "  [ 0.03066871 -0.01865089  0.01529825 -0.00235844  0.00664179\n",
      "    0.01101911 -0.04623104  0.03389679 -0.02149683 -0.03245567]\n",
      "  [ 0.01201265  0.03153094 -0.04652928  0.03914585  0.03927446\n",
      "    0.03826218  0.00733155 -0.01977661 -0.04542363 -0.02150375]\n",
      "  [-0.03573634 -0.03631032  0.03118053  0.02210133  0.02057984\n",
      "   -0.01621277  0.03367627  0.03976841 -0.01537909  0.01019831]\n",
      "  [-0.01994692 -0.03775616 -0.0276296   0.01722684 -0.04786852\n",
      "   -0.01092392  0.01942894 -0.00682078 -0.01388458 -0.01086284]]]\n"
     ]
    }
   ],
   "source": [
    "print(model.predict(embedded_docs))"
   ]
  },
  {
   "cell_type": "code",
   "execution_count": 14,
   "metadata": {
    "id": "QqG64EQlKB9-"
   },
   "outputs": [
    {
     "name": "stdout",
     "output_type": "stream",
     "text": [
      "[  0   0  67 355 143 141  29 291]\n"
     ]
    }
   ],
   "source": [
    "print(embedded_docs[0])"
   ]
  },
  {
   "cell_type": "code",
   "execution_count": 15,
   "metadata": {
    "id": "ZN79TpwLAqh9"
   },
   "outputs": [
    {
     "name": "stdout",
     "output_type": "stream",
     "text": [
      "1/1 [==============================] - 0s 24ms/step\n",
      "[[ 0.0466722   0.00823305  0.02065333 -0.03314508  0.01638866  0.03044219\n",
      "  -0.01811396  0.02652207 -0.00379852  0.01625795]\n",
      " [ 0.0466722   0.00823305  0.02065333 -0.03314508  0.01638866  0.03044219\n",
      "  -0.01811396  0.02652207 -0.00379852  0.01625795]\n",
      " [-0.01347943 -0.01941012 -0.00099878  0.04674285 -0.04466426 -0.03067918\n",
      "   0.04598016 -0.01262902 -0.01197134  0.04788223]\n",
      " [ 0.03858839 -0.01758027  0.00371774 -0.03447851  0.02703622 -0.00458044\n",
      "   0.03935471 -0.00957811 -0.00212612 -0.00752354]\n",
      " [ 0.01604256 -0.03107025  0.01575447 -0.04786141 -0.01812332 -0.01901939\n",
      "  -0.04348482 -0.04283757  0.00165344  0.04700509]\n",
      " [ 0.00397017  0.04241543  0.03485955 -0.03842328  0.01302835 -0.00483058\n",
      "  -0.00792034 -0.04794048  0.03393799  0.02600821]\n",
      " [ 0.02286165 -0.0255911   0.00616083  0.03417151  0.03621553 -0.01471814\n",
      "   0.00256534  0.04045555 -0.0345006   0.02770771]\n",
      " [-0.01555651 -0.02091603 -0.042944    0.03772041 -0.03510829 -0.00782859\n",
      "  -0.01623076  0.00764247  0.01376667  0.03575159]]\n"
     ]
    }
   ],
   "source": [
    "print(model.predict(embedded_docs)[0])"
   ]
  },
  {
   "cell_type": "code",
   "execution_count": null,
   "metadata": {},
   "outputs": [],
   "source": []
  }
 ],
 "metadata": {
  "colab": {
   "authorship_tag": "ABX9TyNsWfMTcLRy26F0Bubw2rPs",
   "collapsed_sections": [],
   "name": "Feature Extraction (Second Lab).ipynb",
   "provenance": []
  },
  "kernelspec": {
   "display_name": "Python 3 (ipykernel)",
   "language": "python",
   "name": "python3"
  },
  "language_info": {
   "codemirror_mode": {
    "name": "ipython",
    "version": 3
   },
   "file_extension": ".py",
   "mimetype": "text/x-python",
   "name": "python",
   "nbconvert_exporter": "python",
   "pygments_lexer": "ipython3",
   "version": "3.8.10"
  }
 },
 "nbformat": 4,
 "nbformat_minor": 1
}
