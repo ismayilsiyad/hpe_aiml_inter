{
 "cells": [
  {
   "cell_type": "code",
   "execution_count": 1,
   "id": "3827ddc9",
   "metadata": {},
   "outputs": [],
   "source": [
    "# install and import all reqired libraries\n",
    "# pyspark provide functionality to work with RDD DF and ML algorithms\n",
    "import findspark\n",
    "findspark.init()\n",
    "import pyspark"
   ]
  },
  {
   "cell_type": "code",
   "execution_count": 2,
   "id": "a9ad95bb",
   "metadata": {},
   "outputs": [
    {
     "name": "stderr",
     "output_type": "stream",
     "text": [
      "22/11/29 00:52:57 WARN Utils: Your hostname, siyad-VirtualBox resolves to a loopback address: 127.0.1.1; using 10.0.2.15 instead (on interface enp0s3)\n",
      "22/11/29 00:52:57 WARN Utils: Set SPARK_LOCAL_IP if you need to bind to another address\n",
      "22/11/29 00:52:58 WARN NativeCodeLoader: Unable to load native-hadoop library for your platform... using builtin-java classes where applicable\n",
      "Using Spark's default log4j profile: org/apache/spark/log4j-defaults.properties\n",
      "Setting default log level to \"WARN\".\n",
      "To adjust logging level use sc.setLogLevel(newLevel). For SparkR, use setLogLevel(newLevel).\n",
      "22/11/29 00:53:00 WARN Utils: Service 'SparkUI' could not bind on port 4040. Attempting port 4041.\n",
      "22/11/29 00:53:00 WARN Utils: Service 'SparkUI' could not bind on port 4041. Attempting port 4042.\n"
     ]
    }
   ],
   "source": [
    "#create SparkSession instance\n",
    "from pyspark import SparkConf\n",
    "from pyspark.sql import SparkSession\n",
    "conf = SparkConf()\n",
    "spark_session = SparkSession.builder.config(conf=conf).appName('Anomaly Detection').getOrCreate()"
   ]
  },
  {
   "cell_type": "code",
   "execution_count": 3,
   "id": "919466cc",
   "metadata": {},
   "outputs": [
    {
     "name": "stderr",
     "output_type": "stream",
     "text": [
      "                                                                                \r"
     ]
    },
    {
     "name": "stdout",
     "output_type": "stream",
     "text": [
      "+--------+--------+--------+--------+\n",
      "|feature1|feature2|feature3|feature4|\n",
      "+--------+--------+--------+--------+\n",
      "|     1.0|     0.0|     0.3|    0.01|\n",
      "|    10.0|     3.0|     0.9|     0.1|\n",
      "|   101.0|    13.0|     0.9|    0.91|\n",
      "|   111.0|    11.0|     1.2|    1.91|\n",
      "+--------+--------+--------+--------+\n",
      "\n"
     ]
    },
    {
     "name": "stderr",
     "output_type": "stream",
     "text": [
      "[Stage 3:=======================================>                   (2 + 1) / 3]\r"
     ]
    },
    {
     "name": "stdout",
     "output_type": "stream",
     "text": [
      "+--------+--------+--------+--------+----------+\n",
      "|feature1|feature2|feature3|feature4|prediction|\n",
      "+--------+--------+--------+--------+----------+\n",
      "|     1.0|     0.0|     0.3|    0.01|        -1|\n",
      "|    10.0|     3.0|     0.9|     0.1|         1|\n",
      "|   101.0|    13.0|     0.9|    0.91|         1|\n",
      "|   111.0|    11.0|     1.2|    1.91|         1|\n",
      "+--------+--------+--------+--------+----------+\n",
      "\n"
     ]
    },
    {
     "name": "stderr",
     "output_type": "stream",
     "text": [
      "\r",
      "                                                                                \r"
     ]
    }
   ],
   "source": [
    "from pyspark.sql import functions as F, types as T\n",
    "from sklearn.ensemble import IsolationForest\n",
    "from sklearn.preprocessing import StandardScaler \n",
    "import numpy as np\n",
    "\n",
    "#Generate random number \n",
    "np.random.seed(42)\n",
    "\n",
    "# create a dataframe\n",
    "data_example = [\n",
    "    {'feature1': 1., 'feature2': 0., 'feature3': 0.3, 'feature4': 0.01},\n",
    "    {'feature1': 10., 'feature2': 3., 'feature3': 0.9, 'feature4': 0.1},\n",
    "    {'feature1': 101., 'feature2': 13., 'feature3': 0.9, 'feature4': 0.91},\n",
    "    {'feature1': 111., 'feature2': 11., 'feature3': 1.2, 'feature4': 1.91},\n",
    "]\n",
    "df = spark_session.createDataFrame(data_example)\n",
    "df.show()\n",
    "\n",
    "# Scaler is instantiated, an isolation forest is used as classifier and data is converted into the appropriate form\n",
    "scaler = StandardScaler()\n",
    "classifier = IsolationForest(contamination=0.3, random_state=42, n_jobs=-1)\n",
    "x_train = [list(n.values()) for n in data_example]\n",
    "\n",
    "# fit on the data\n",
    "x_train = scaler.fit_transform(x_train)\n",
    "clf = classifier.fit(x_train)\n",
    "\n",
    "# The scaler and the classifier objects are broadcasted which works well for small objects\n",
    "\n",
    "SCL = spark_session.sparkContext.broadcast(scaler)\n",
    "CLF = spark_session.sparkContext.broadcast(clf)\n",
    "\n",
    "\n",
    "def predict_using_broadcasts(feature1, feature2, feature3, feature4):\n",
    "    \"\"\"\n",
    "    Scale the feature values and use the model to predict\n",
    "    :return: 1 if normal, -1 if abnormal 0 if something went wrong\n",
    "    \"\"\"\n",
    "    prediction = 0\n",
    "\n",
    "    x_test = [[feature1, feature2, feature3, feature4]]\n",
    "    try:\n",
    "        x_test = SCL.value.transform(x_test)\n",
    "        prediction = CLF.value.predict(x_test)[0]\n",
    "    except ValueError:\n",
    "        import traceback\n",
    "        traceback.print_exc()\n",
    "        print('Cannot predict:', x_test)\n",
    "\n",
    "    return int(prediction)\n",
    "\n",
    "\n",
    "udf_predict_using_broadcasts = F.udf(predict_using_broadcasts, T.IntegerType())\n",
    "\n",
    "\n",
    "df = df.withColumn(\n",
    "    'prediction',\n",
    "    udf_predict_using_broadcasts('feature1', 'feature2', 'feature3', 'feature4')\n",
    ")\n",
    "#visualize the features along with prediction\n",
    "df.show()\n"
   ]
  },
  {
   "cell_type": "code",
   "execution_count": null,
   "id": "f445392b",
   "metadata": {},
   "outputs": [],
   "source": []
  }
 ],
 "metadata": {
  "kernelspec": {
   "display_name": "Python 3 (ipykernel)",
   "language": "python",
   "name": "python3"
  },
  "language_info": {
   "codemirror_mode": {
    "name": "ipython",
    "version": 3
   },
   "file_extension": ".py",
   "mimetype": "text/x-python",
   "name": "python",
   "nbconvert_exporter": "python",
   "pygments_lexer": "ipython3",
   "version": "3.9.12"
  }
 },
 "nbformat": 4,
 "nbformat_minor": 5
}
