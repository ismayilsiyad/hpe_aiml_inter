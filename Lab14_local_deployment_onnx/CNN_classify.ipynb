{
  "nbformat": 4,
  "nbformat_minor": 0,
  "metadata": {
    "colab": {
      "provenance": [],
      "collapsed_sections": []
    },
    "kernelspec": {
      "name": "python3",
      "display_name": "Python 3"
    },
    "accelerator": "GPU"
  },
  "cells": [
    {
      "cell_type": "code",
      "metadata": {
        "id": "Kv4yYMWvTyRg"
      },
      "source": [
        "import tensorflow as tf\n",
        "import matplotlib.pyplot as plt"
      ],
      "execution_count": 1,
      "outputs": []
    },
    {
      "cell_type": "code",
      "source": [
        "from google.colab import drive\n",
        "drive.mount('/content/drive')"
      ],
      "metadata": {
        "colab": {
          "base_uri": "https://localhost:8080/"
        },
        "id": "R3F1Tpb-rZdf",
        "outputId": "0cf6d07b-a264-45da-98dd-c2e624b3f6e0"
      },
      "execution_count": 25,
      "outputs": [
        {
          "output_type": "stream",
          "name": "stdout",
          "text": [
            "Mounted at /content/drive\n"
          ]
        }
      ]
    },
    {
      "cell_type": "code",
      "metadata": {
        "id": "GsgQTU1uR-wx"
      },
      "source": [
        "from tensorflow.keras.datasets import cifar10"
      ],
      "execution_count": 2,
      "outputs": []
    },
    {
      "cell_type": "markdown",
      "metadata": {
        "id": "QlNBhQQKaGBv"
      },
      "source": [
        "#### Loading the dataset"
      ]
    },
    {
      "cell_type": "code",
      "metadata": {
        "id": "lUwIowIHSFz6",
        "colab": {
          "base_uri": "https://localhost:8080/"
        },
        "outputId": "ab3be09d-4d56-4280-f8e2-a2819fba3eae"
      },
      "source": [
        "# setting class names\n",
        "class_names=['airplane','automobile','bird','cat','deer','dog','frog','horse','ship','truck']\n",
        "#loading the dataset\n",
        "(x_train,y_train),(x_test,y_test)=cifar10.load_data()"
      ],
      "execution_count": 3,
      "outputs": [
        {
          "output_type": "stream",
          "name": "stdout",
          "text": [
            "Downloading data from https://www.cs.toronto.edu/~kriz/cifar-10-python.tar.gz\n",
            "170498071/170498071 [==============================] - 6s 0us/step\n"
          ]
        }
      ]
    },
    {
      "cell_type": "markdown",
      "metadata": {
        "id": "IRE4_jLWauxB"
      },
      "source": [
        "#### Normalizing the Images"
      ]
    },
    {
      "cell_type": "code",
      "metadata": {
        "id": "aKolF8aoarNw",
        "outputId": "1fd62bf2-b904-4448-8ceb-a772f52388d0",
        "colab": {
          "base_uri": "https://localhost:8080/"
        }
      },
      "source": [
        "x_train=x_train/255.0\n",
        "x_train.shape"
      ],
      "execution_count": 4,
      "outputs": [
        {
          "output_type": "execute_result",
          "data": {
            "text/plain": [
              "(50000, 32, 32, 3)"
            ]
          },
          "metadata": {},
          "execution_count": 4
        }
      ]
    },
    {
      "cell_type": "code",
      "metadata": {
        "id": "8ZX2i0u6a7HK",
        "outputId": "49e642a7-e4a5-4711-ecc6-01a278df8aba",
        "colab": {
          "base_uri": "https://localhost:8080/"
        }
      },
      "source": [
        "x_test=x_test/255.0\n",
        "x_test.shape"
      ],
      "execution_count": 5,
      "outputs": [
        {
          "output_type": "execute_result",
          "data": {
            "text/plain": [
              "(10000, 32, 32, 3)"
            ]
          },
          "metadata": {},
          "execution_count": 5
        }
      ]
    },
    {
      "cell_type": "markdown",
      "metadata": {
        "id": "RSfaVbOlbLmC"
      },
      "source": [
        "##### Randomly Checking a image"
      ]
    },
    {
      "cell_type": "code",
      "metadata": {
        "id": "KqfeECZibBiZ",
        "outputId": "170e0f20-174f-40e0-ba68-37eae239ba72",
        "colab": {
          "base_uri": "https://localhost:8080/",
          "height": 283
        }
      },
      "source": [
        "plt.imshow(x_test[215])"
      ],
      "execution_count": 6,
      "outputs": [
        {
          "output_type": "execute_result",
          "data": {
            "text/plain": [
              "<matplotlib.image.AxesImage at 0x7f4676054690>"
            ]
          },
          "metadata": {},
          "execution_count": 6
        },
        {
          "output_type": "display_data",
          "data": {
            "text/plain": [
              "<Figure size 432x288 with 1 Axes>"
            ],
            "image/png": "[encoded data removed]"
          },
          "metadata": {
            "needs_background": "light"
          }
        }
      ]
    },
    {
      "cell_type": "markdown",
      "metadata": {
        "id": "QRXVpTaYd3Ch"
      },
      "source": [
        "### Building a Convolutional Neural Network"
      ]
    },
    {
      "cell_type": "code",
      "metadata": {
        "id": "AU58AbtmbZWp"
      },
      "source": [
        "cnn_model=tf.keras.models.Sequential()"
      ],
      "execution_count": 7,
      "outputs": []
    },
    {
      "cell_type": "code",
      "metadata": {
        "id": "NqdzXRJneEwk"
      },
      "source": [
        "# First Layer\n",
        "cnn_model.add(tf.keras.layers.Conv2D(filters=32,kernel_size=3,padding=\"same\", activation=\"relu\", input_shape=[32,32,3]))"
      ],
      "execution_count": 8,
      "outputs": []
    },
    {
      "cell_type": "code",
      "metadata": {
        "id": "_9jMyxhvetxe"
      },
      "source": [
        "# Second Layer\n",
        "cnn_model.add(tf.keras.layers.Conv2D(filters=32,kernel_size=3,padding=\"same\", activation=\"relu\"))"
      ],
      "execution_count": 9,
      "outputs": []
    },
    {
      "cell_type": "code",
      "metadata": {
        "id": "VVUNy66Ye5MR"
      },
      "source": [
        "# Max Pooling Layer\n",
        "cnn_model.add(tf.keras.layers.MaxPool2D(pool_size=2,strides=2,padding='valid'))"
      ],
      "execution_count": 10,
      "outputs": []
    },
    {
      "cell_type": "code",
      "metadata": {
        "id": "KGgW_r_ofPf5"
      },
      "source": [
        "# Third Layer\n",
        "cnn_model.add(tf.keras.layers.Conv2D(filters=64,kernel_size=3,padding=\"same\", activation=\"relu\"))"
      ],
      "execution_count": 11,
      "outputs": []
    },
    {
      "cell_type": "code",
      "metadata": {
        "id": "qx_7DWasfeO8"
      },
      "source": [
        "# Fourth Layer\n",
        "cnn_model.add(tf.keras.layers.Conv2D(filters=64,kernel_size=3,padding=\"same\", activation=\"relu\"))"
      ],
      "execution_count": 12,
      "outputs": []
    },
    {
      "cell_type": "code",
      "metadata": {
        "id": "Y2pGYAbkfm3S"
      },
      "source": [
        "# Max Pooling Layer\n",
        "cnn_model.add(tf.keras.layers.MaxPool2D(pool_size=2,strides=2,padding='valid'))"
      ],
      "execution_count": 13,
      "outputs": []
    },
    {
      "cell_type": "code",
      "metadata": {
        "id": "ihIOQwoCfy0y"
      },
      "source": [
        "# Flattening Layer\n",
        "cnn_model.add(tf.keras.layers.Flatten())"
      ],
      "execution_count": 14,
      "outputs": []
    },
    {
      "cell_type": "code",
      "metadata": {
        "id": "IeZhHvag1Gs9"
      },
      "source": [
        "# Droput Layer\n",
        "cnn_model.add(tf.keras.layers.Dropout(0.5,noise_shape=None,seed=None))"
      ],
      "execution_count": 15,
      "outputs": []
    },
    {
      "cell_type": "code",
      "metadata": {
        "id": "haDan9b0f-0C"
      },
      "source": [
        "# Adding the dense layer\n",
        "cnn_model.add(tf.keras.layers.Dense(units=128,activation='relu'))"
      ],
      "execution_count": 16,
      "outputs": []
    },
    {
      "cell_type": "code",
      "metadata": {
        "id": "MQdObxnKgbT2"
      },
      "source": [
        "# Output Layer\n",
        "cnn_model.add(tf.keras.layers.Dense(units=10,activation='softmax'))"
      ],
      "execution_count": 17,
      "outputs": []
    },
    {
      "cell_type": "code",
      "metadata": {
        "id": "V41xnMAqgywJ",
        "outputId": "03c2cfcd-3219-4387-fc99-ae45d87dae69",
        "colab": {
          "base_uri": "https://localhost:8080/"
        }
      },
      "source": [
        "cnn_model.summary()"
      ],
      "execution_count": 18,
      "outputs": [
        {
          "output_type": "stream",
          "name": "stdout",
          "text": [
            "Model: \"sequential\"\n",
            "_________________________________________________________________\n",
            " Layer (type)                Output Shape              Param #   \n",
            "=================================================================\n",
            " conv2d (Conv2D)             (None, 32, 32, 32)        896       \n",
            "                                                                 \n",
            " conv2d_1 (Conv2D)           (None, 32, 32, 32)        9248      \n",
            "                                                                 \n",
            " max_pooling2d (MaxPooling2D  (None, 16, 16, 32)       0         \n",
            " )                                                               \n",
            "                                                                 \n",
            " conv2d_2 (Conv2D)           (None, 16, 16, 64)        18496     \n",
            "                                                                 \n",
            " conv2d_3 (Conv2D)           (None, 16, 16, 64)        36928     \n",
            "                                                                 \n",
            " max_pooling2d_1 (MaxPooling  (None, 8, 8, 64)         0         \n",
            " 2D)                                                             \n",
            "                                                                 \n",
            " flatten (Flatten)           (None, 4096)              0         \n",
            "                                                                 \n",
            " dropout (Dropout)           (None, 4096)              0         \n",
            "                                                                 \n",
            " dense (Dense)               (None, 128)               524416    \n",
            "                                                                 \n",
            " dense_1 (Dense)             (None, 10)                1290      \n",
            "                                                                 \n",
            "=================================================================\n",
            "Total params: 591,274\n",
            "Trainable params: 591,274\n",
            "Non-trainable params: 0\n",
            "_________________________________________________________________\n"
          ]
        }
      ]
    },
    {
      "cell_type": "markdown",
      "metadata": {
        "id": "TzemfxYhhJp8"
      },
      "source": [
        "#### Compiling the Model"
      ]
    },
    {
      "cell_type": "code",
      "metadata": {
        "id": "B59-fT62g1jY"
      },
      "source": [
        "cnn_model.compile(loss=\"sparse_categorical_crossentropy\", optimizer=\"Adam\", metrics=[\"sparse_categorical_accuracy\"])"
      ],
      "execution_count": 19,
      "outputs": []
    },
    {
      "cell_type": "markdown",
      "metadata": {
        "id": "L00ZEAnahM4P"
      },
      "source": [
        "#### Training the Model"
      ]
    },
    {
      "cell_type": "code",
      "metadata": {
        "id": "kix1JzKThG3x",
        "outputId": "df3e4952-d396-4867-bb86-0be2e726bb6b",
        "colab": {
          "base_uri": "https://localhost:8080/"
        }
      },
      "source": [
        "cnn_model.fit(x_train,y_train,epochs=15)"
      ],
      "execution_count": 20,
      "outputs": [
        {
          "output_type": "stream",
          "name": "stdout",
          "text": [
            "Epoch 1/15\n",
            "1563/1563 [==============================] - 15s 5ms/step - loss: 1.4253 - sparse_categorical_accuracy: 0.4823\n",
            "Epoch 2/15\n",
            "1563/1563 [==============================] - 7s 4ms/step - loss: 1.0313 - sparse_categorical_accuracy: 0.6358\n",
            "Epoch 3/15\n",
            "1563/1563 [==============================] - 7s 4ms/step - loss: 0.8746 - sparse_categorical_accuracy: 0.6891\n",
            "Epoch 4/15\n",
            "1563/1563 [==============================] - 7s 5ms/step - loss: 0.7855 - sparse_categorical_accuracy: 0.7221\n",
            "Epoch 5/15\n",
            "1563/1563 [==============================] - 7s 4ms/step - loss: 0.7169 - sparse_categorical_accuracy: 0.7473\n",
            "Epoch 6/15\n",
            "1563/1563 [==============================] - 7s 4ms/step - loss: 0.6588 - sparse_categorical_accuracy: 0.7663\n",
            "Epoch 7/15\n",
            "1563/1563 [==============================] - 7s 4ms/step - loss: 0.6147 - sparse_categorical_accuracy: 0.7813\n",
            "Epoch 8/15\n",
            "1563/1563 [==============================] - 7s 4ms/step - loss: 0.5768 - sparse_categorical_accuracy: 0.7954\n",
            "Epoch 9/15\n",
            "1563/1563 [==============================] - 7s 4ms/step - loss: 0.5411 - sparse_categorical_accuracy: 0.8063\n",
            "Epoch 10/15\n",
            "1563/1563 [==============================] - 7s 4ms/step - loss: 0.5154 - sparse_categorical_accuracy: 0.8165\n",
            "Epoch 11/15\n",
            "1563/1563 [==============================] - 7s 4ms/step - loss: 0.4899 - sparse_categorical_accuracy: 0.8252\n",
            "Epoch 12/15\n",
            "1563/1563 [==============================] - 7s 4ms/step - loss: 0.4612 - sparse_categorical_accuracy: 0.8376\n",
            "Epoch 13/15\n",
            "1563/1563 [==============================] - 7s 4ms/step - loss: 0.4420 - sparse_categorical_accuracy: 0.8417\n",
            "Epoch 14/15\n",
            "1563/1563 [==============================] - 7s 4ms/step - loss: 0.4274 - sparse_categorical_accuracy: 0.8474\n",
            "Epoch 15/15\n",
            "1563/1563 [==============================] - 7s 4ms/step - loss: 0.4082 - sparse_categorical_accuracy: 0.8538\n"
          ]
        },
        {
          "output_type": "execute_result",
          "data": {
            "text/plain": [
              "<keras.callbacks.History at 0x7f466003e8d0>"
            ]
          },
          "metadata": {},
          "execution_count": 20
        }
      ]
    },
    {
      "cell_type": "code",
      "metadata": {
        "id": "vw7sYXKMhYqy",
        "outputId": "ece6d1b8-83c1-4780-d7f1-c43f4b997ce9",
        "colab": {
          "base_uri": "https://localhost:8080/"
        }
      },
      "source": [
        "test_loss, test_accuracy = cnn_model.evaluate(x_test, y_test)"
      ],
      "execution_count": 21,
      "outputs": [
        {
          "output_type": "stream",
          "name": "stdout",
          "text": [
            "313/313 [==============================] - 1s 3ms/step - loss: 0.6957 - sparse_categorical_accuracy: 0.7749\n"
          ]
        }
      ]
    },
    {
      "cell_type": "code",
      "metadata": {
        "id": "5WYm9957pmf8",
        "outputId": "2d06f65e-8d52-4da1-dee3-d010b1e8f2a8",
        "colab": {
          "base_uri": "https://localhost:8080/"
        }
      },
      "source": [
        "print(\"Test accuracy: {}\".format(test_accuracy))"
      ],
      "execution_count": 22,
      "outputs": [
        {
          "output_type": "stream",
          "name": "stdout",
          "text": [
            "Test accuracy: 0.7749000191688538\n"
          ]
        }
      ]
    },
    {
      "cell_type": "code",
      "source": [
        "!pip install tf2onnx"
      ],
      "metadata": {
        "colab": {
          "base_uri": "https://localhost:8080/"
        },
        "id": "u7pf_f4e8VtS",
        "outputId": "e8cfb571-7c87-4b3e-cefd-08e85f29df18"
      },
      "execution_count": 23,
      "outputs": [
        {
          "output_type": "stream",
          "name": "stdout",
          "text": [
            "Looking in indexes: https://pypi.org/simple, https://us-python.pkg.dev/colab-wheels/public/simple/\n",
            "Collecting tf2onnx\n",
            "  Downloading tf2onnx-1.12.1-py3-none-any.whl (442 kB)\n",
            "\u001b[K     |████████████████████████████████| 442 kB 14.3 MB/s \n",
            "\u001b[?25hRequirement already satisfied: flatbuffers~=1.12 in /usr/local/lib/python3.7/dist-packages (from tf2onnx) (1.12)\n",
            "Requirement already satisfied: six in /usr/local/lib/python3.7/dist-packages (from tf2onnx) (1.15.0)\n",
            "Requirement already satisfied: requests in /usr/local/lib/python3.7/dist-packages (from tf2onnx) (2.23.0)\n",
            "Requirement already satisfied: numpy>=1.14.1 in /usr/local/lib/python3.7/dist-packages (from tf2onnx) (1.21.6)\n",
            "Collecting onnx>=1.4.1\n",
            "  Downloading onnx-1.12.0-cp37-cp37m-manylinux_2_17_x86_64.manylinux2014_x86_64.whl (13.1 MB)\n",
            "\u001b[K     |████████████████████████████████| 13.1 MB 62.2 MB/s \n",
            "\u001b[?25hRequirement already satisfied: typing-extensions>=3.6.2.1 in /usr/local/lib/python3.7/dist-packages (from onnx>=1.4.1->tf2onnx) (4.1.1)\n",
            "Requirement already satisfied: protobuf<=3.20.1,>=3.12.2 in /usr/local/lib/python3.7/dist-packages (from onnx>=1.4.1->tf2onnx) (3.17.3)\n",
            "Requirement already satisfied: certifi>=2017.4.17 in /usr/local/lib/python3.7/dist-packages (from requests->tf2onnx) (2022.9.24)\n",
            "Requirement already satisfied: idna<3,>=2.5 in /usr/local/lib/python3.7/dist-packages (from requests->tf2onnx) (2.10)\n",
            "Requirement already satisfied: chardet<4,>=3.0.2 in /usr/local/lib/python3.7/dist-packages (from requests->tf2onnx) (3.0.4)\n",
            "Requirement already satisfied: urllib3!=1.25.0,!=1.25.1,<1.26,>=1.21.1 in /usr/local/lib/python3.7/dist-packages (from requests->tf2onnx) (1.24.3)\n",
            "Installing collected packages: onnx, tf2onnx\n",
            "Successfully installed onnx-1.12.0 tf2onnx-1.12.1\n"
          ]
        }
      ]
    },
    {
      "cell_type": "code",
      "source": [
        "import onnx\n",
        "import tf2onnx"
      ],
      "metadata": {
        "id": "n9cCsc9Z8Zlg"
      },
      "execution_count": 26,
      "outputs": []
    },
    {
      "cell_type": "code",
      "source": [
        "onnx_model, _ = tf2onnx.convert.from_keras(cnn_model)\n",
        "onnx.save(onnx_model, '/content/drive/MyDrive/dlmodel/cifar_classifier.onnx')"
      ],
      "metadata": {
        "colab": {
          "base_uri": "https://localhost:8080/"
        },
        "id": "PFC-hK-x8geK",
        "outputId": "489f9116-67ba-4d70-ce9e-ef19ba163f9e"
      },
      "execution_count": 28,
      "outputs": [
        {
          "output_type": "stream",
          "name": "stderr",
          "text": [
            "WARNING:tensorflow:From /usr/local/lib/python3.7/dist-packages/tf2onnx/tf_loader.py:715: extract_sub_graph (from tensorflow.python.framework.graph_util_impl) is deprecated and will be removed in a future version.\n",
            "Instructions for updating:\n",
            "Use `tf.compat.v1.graph_util.extract_sub_graph`\n"
          ]
        }
      ]
    },
    {
      "cell_type": "markdown",
      "source": [
        "#### Saving the trained Model"
      ],
      "metadata": {
        "id": "jaPGNNyly9Ct"
      }
    },
    {
      "cell_type": "code",
      "metadata": {
        "id": "OkJSXBg8SQse"
      },
      "source": [
        "model_json = cnn_model.to_json()\n",
        "with open('/content/drive/My Drive/Colab Notebooks/cnn_model.json', 'w') as json_file:\n",
        "    json_file.write(model_json)\n",
        "cnn_model.save_weights('/content/drive/My Drive/Colab Notebooks/cnn_model.h5') "
      ],
      "execution_count": null,
      "outputs": []
    },
    {
      "cell_type": "code",
      "metadata": {
        "id": "hx8WxdvwqWQH"
      },
      "source": [
        "from tensorflow.keras.models import model_from_json\n",
        "json_file = open('/content/drive/My Drive/Colab Notebooks/cnn_model.json', 'r')\n",
        "loaded_model_json = json_file.read()\n",
        "json_file.close()\n",
        "loaded_model = model_from_json(loaded_model_json)\n",
        "loaded_model.load_weights('/content/drive/My Drive/Colab Notebooks/cnn_model.h5')"
      ],
      "execution_count": null,
      "outputs": []
    },
    {
      "cell_type": "code",
      "source": [
        "loaded_model.compile(loss=\"sparse_categorical_crossentropy\", optimizer=\"Adam\", metrics=[\"sparse_categorical_accuracy\"])\n",
        "test_loss, test_accuracy = loaded_model.evaluate(x_test, y_test)\n",
        "print('Test Accuracy:', test_accuracy)"
      ],
      "metadata": {
        "colab": {
          "base_uri": "https://localhost:8080/"
        },
        "id": "bikoVXHGlLga",
        "outputId": "4f7a2052-fcf1-48a0-bf22-db901c82886d"
      },
      "execution_count": null,
      "outputs": [
        {
          "output_type": "stream",
          "name": "stdout",
          "text": [
            "313/313 [==============================] - 1s 3ms/step - loss: 0.6767 - sparse_categorical_accuracy: 0.7867\n",
            "Test Accuracy: 0.7867000102996826\n"
          ]
        }
      ]
    }
  ]
}