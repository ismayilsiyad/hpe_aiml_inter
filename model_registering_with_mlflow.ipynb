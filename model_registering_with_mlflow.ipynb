{
 "cells": [
  {
   "cell_type": "code",
   "execution_count": 1,
   "id": "437597e7",
   "metadata": {},
   "outputs": [],
   "source": [
    "import findspark\n",
    "findspark.init()"
   ]
  },
  {
   "cell_type": "code",
   "execution_count": 2,
   "id": "e89c06e3",
   "metadata": {},
   "outputs": [],
   "source": [
    "import pyspark"
   ]
  },
  {
   "cell_type": "code",
   "execution_count": 3,
   "id": "70b70413",
   "metadata": {},
   "outputs": [],
   "source": [
    "from pyspark.sql import SparkSession\n",
    "\n",
    "sc = SparkSession \\\n",
    "    .builder \\\n",
    "    .appName(\"cluster\") \\\n",
    "    .master('local[2]') \\\n",
    "    .getOrCreate()"
   ]
  },
  {
   "cell_type": "code",
   "execution_count": 4,
   "id": "d9999b52",
   "metadata": {},
   "outputs": [],
   "source": [
    "training = sc.createDataFrame([\n",
    "     (0, 'i like apple pie for dessert', 1.0),\n",
    "     (1, 'i dont drive fast cars', 0.0),\n",
    "     (2, 'data science is fun', 1.0),\n",
    "     (3, 'chocolate is not my favorite', 0.0),\n",
    "     (4, 'my favorite movie is predator', 1.0)],\n",
    "     ['id', 'text', 'label'])"
   ]
  },
  {
   "cell_type": "code",
   "execution_count": 5,
   "id": "97e48f41",
   "metadata": {},
   "outputs": [],
   "source": [
    "from pyspark.ml import Pipeline\n",
    "from pyspark.ml.classification import LogisticRegression\n",
    "from pyspark.ml.feature import HashingTF, Tokenizer"
   ]
  },
  {
   "cell_type": "code",
   "execution_count": 6,
   "id": "6b96d710",
   "metadata": {},
   "outputs": [],
   "source": [
    "tokenizer = Tokenizer(inputCol=\"text\", outputCol=\"words\")\n",
    "hashingTF = HashingTF(inputCol=tokenizer.getOutputCol(), outputCol=\"features\")\n",
    "lr = LogisticRegression(maxIter=10, regParam=0.01, featuresCol='features',labelCol='label')"
   ]
  },
  {
   "cell_type": "code",
   "execution_count": 7,
   "id": "37afe427",
   "metadata": {},
   "outputs": [],
   "source": [
    "pipeline = Pipeline(stages=[tokenizer, hashingTF, lr])"
   ]
  },
  {
   "cell_type": "code",
   "execution_count": 9,
   "id": "57e5878c",
   "metadata": {},
   "outputs": [
    {
     "name": "stdout",
     "output_type": "stream",
     "text": [
      "Collecting mlflow\n",
      "  Downloading mlflow-1.24.0-py3-none-any.whl (16.5 MB)\n",
      "Requirement already satisfied: entrypoints in c:\\users\\kanchanrushikeshkale\\miniconda3\\lib\\site-packages (from mlflow) (0.4)\n",
      "Collecting waitress\n",
      "  Downloading waitress-2.1.1-py3-none-any.whl (57 kB)\n",
      "Collecting databricks-cli>=0.8.7\n",
      "  Downloading databricks-cli-0.16.4.tar.gz (58 kB)\n",
      "Collecting gitpython>=2.1.0\n",
      "  Downloading GitPython-3.1.27-py3-none-any.whl (181 kB)\n",
      "Collecting cloudpickle\n",
      "  Downloading cloudpickle-2.0.0-py3-none-any.whl (25 kB)\n",
      "Collecting pandas\n",
      "  Downloading pandas-1.4.1-cp38-cp38-win_amd64.whl (10.6 MB)\n",
      "Collecting protobuf>=3.7.0\n",
      "  Downloading protobuf-3.19.4-cp38-cp38-win_amd64.whl (895 kB)\n",
      "Collecting importlib-metadata!=4.7.0,>=3.7.0\n",
      "  Downloading importlib_metadata-4.11.3-py3-none-any.whl (18 kB)\n",
      "Collecting pytz\n",
      "  Downloading pytz-2022.1-py2.py3-none-any.whl (503 kB)\n",
      "Requirement already satisfied: requests>=2.17.3 in c:\\users\\kanchanrushikeshkale\\miniconda3\\lib\\site-packages (from mlflow) (2.27.1)\n",
      "Requirement already satisfied: click>=7.0 in c:\\users\\kanchanrushikeshkale\\miniconda3\\lib\\site-packages (from mlflow) (8.0.4)\n",
      "Collecting alembic\n",
      "  Downloading alembic-1.7.7-py3-none-any.whl (210 kB)\n",
      "Collecting sqlalchemy\n",
      "  Downloading SQLAlchemy-1.4.32-cp38-cp38-win_amd64.whl (1.6 MB)\n",
      "Collecting pyyaml>=5.1\n",
      "  Downloading PyYAML-6.0-cp38-cp38-win_amd64.whl (155 kB)\n",
      "Requirement already satisfied: Flask in c:\\users\\kanchanrushikeshkale\\miniconda3\\lib\\site-packages (from mlflow) (2.0.3)\n",
      "Requirement already satisfied: numpy in c:\\users\\kanchanrushikeshkale\\miniconda3\\lib\\site-packages (from mlflow) (1.22.3)\n",
      "Collecting prometheus-flask-exporter\n",
      "  Downloading prometheus_flask_exporter-0.19.0-py3-none-any.whl (18 kB)\n",
      "Collecting querystring-parser\n",
      "  Downloading querystring_parser-1.2.4-py2.py3-none-any.whl (7.9 kB)\n",
      "Requirement already satisfied: packaging in c:\\users\\kanchanrushikeshkale\\miniconda3\\lib\\site-packages (from mlflow) (21.3)\n",
      "Collecting docker>=4.0.0\n",
      "  Downloading docker-5.0.3-py2.py3-none-any.whl (146 kB)\n",
      "Collecting scipy\n",
      "  Downloading scipy-1.8.0-cp38-cp38-win_amd64.whl (36.9 MB)\n",
      "Collecting sqlparse>=0.3.1\n",
      "  Downloading sqlparse-0.4.2-py3-none-any.whl (42 kB)\n",
      "Requirement already satisfied: colorama in c:\\users\\kanchanrushikeshkale\\miniconda3\\lib\\site-packages (from click>=7.0->mlflow) (0.4.4)\n",
      "Collecting tabulate>=0.7.7\n",
      "  Downloading tabulate-0.8.9-py3-none-any.whl (25 kB)\n",
      "Requirement already satisfied: six>=1.10.0 in c:\\users\\kanchanrushikeshkale\\miniconda3\\lib\\site-packages (from databricks-cli>=0.8.7->mlflow) (1.16.0)\n",
      "Collecting websocket-client>=0.32.0\n",
      "  Downloading websocket_client-1.3.2-py3-none-any.whl (54 kB)\n",
      "Collecting pywin32==227\n",
      "  Downloading pywin32-227-cp38-cp38-win_amd64.whl (9.1 MB)\n",
      "Collecting gitdb<5,>=4.0.1\n",
      "  Downloading gitdb-4.0.9-py3-none-any.whl (63 kB)\n",
      "Collecting smmap<6,>=3.0.1\n",
      "  Downloading smmap-5.0.0-py3-none-any.whl (24 kB)\n",
      "Requirement already satisfied: zipp>=0.5 in c:\\users\\kanchanrushikeshkale\\miniconda3\\lib\\site-packages (from importlib-metadata!=4.7.0,>=3.7.0->mlflow) (3.7.0)\n",
      "Requirement already satisfied: charset-normalizer~=2.0.0 in c:\\users\\kanchanrushikeshkale\\miniconda3\\lib\\site-packages (from requests>=2.17.3->mlflow) (2.0.4)\n",
      "Requirement already satisfied: urllib3<1.27,>=1.21.1 in c:\\users\\kanchanrushikeshkale\\miniconda3\\lib\\site-packages (from requests>=2.17.3->mlflow) (1.26.7)\n",
      "Requirement already satisfied: certifi>=2017.4.17 in c:\\users\\kanchanrushikeshkale\\miniconda3\\lib\\site-packages (from requests>=2.17.3->mlflow) (2021.10.8)\n",
      "Requirement already satisfied: idna<4,>=2.5 in c:\\users\\kanchanrushikeshkale\\miniconda3\\lib\\site-packages (from requests>=2.17.3->mlflow) (3.3)\n",
      "Collecting Mako\n",
      "  Downloading Mako-1.2.0-py3-none-any.whl (78 kB)\n",
      "Requirement already satisfied: importlib-resources in c:\\users\\kanchanrushikeshkale\\miniconda3\\lib\\site-packages (from alembic->mlflow) (5.4.0)\n",
      "Collecting greenlet!=0.4.17\n",
      "  Downloading greenlet-1.1.2-cp38-cp38-win_amd64.whl (101 kB)\n",
      "Requirement already satisfied: Werkzeug>=2.0 in c:\\users\\kanchanrushikeshkale\\miniconda3\\lib\\site-packages (from Flask->mlflow) (2.0.3)\n",
      "Requirement already satisfied: Jinja2>=3.0 in c:\\users\\kanchanrushikeshkale\\miniconda3\\lib\\site-packages (from Flask->mlflow) (3.0.3)\n",
      "Requirement already satisfied: itsdangerous>=2.0 in c:\\users\\kanchanrushikeshkale\\miniconda3\\lib\\site-packages (from Flask->mlflow) (2.1.1)\n",
      "Requirement already satisfied: MarkupSafe>=2.0 in c:\\users\\kanchanrushikeshkale\\miniconda3\\lib\\site-packages (from Jinja2>=3.0->Flask->mlflow) (2.1.1)\n",
      "Requirement already satisfied: pyparsing!=3.0.5,>=2.0.2 in c:\\users\\kanchanrushikeshkale\\miniconda3\\lib\\site-packages (from packaging->mlflow) (3.0.7)\n",
      "Requirement already satisfied: python-dateutil>=2.8.1 in c:\\users\\kanchanrushikeshkale\\miniconda3\\lib\\site-packages (from pandas->mlflow) (2.8.2)\n",
      "Requirement already satisfied: prometheus-client in c:\\users\\kanchanrushikeshkale\\miniconda3\\lib\\site-packages (from prometheus-flask-exporter->mlflow) (0.13.1)\n",
      "Building wheels for collected packages: databricks-cli\n",
      "  Building wheel for databricks-cli (setup.py): started\n",
      "  Building wheel for databricks-cli (setup.py): finished with status 'done'\n",
      "  Created wheel for databricks-cli: filename=databricks_cli-0.16.4-py3-none-any.whl size=106877 sha256=1bc164cc0db35a7e2dcee0d70f1d648c69a655f9622da4d72382a6edadf0be60\n",
      "  Stored in directory: c:\\users\\kanchanrushikeshkale\\appdata\\local\\pip\\cache\\wheels\\d0\\a9\\13\\b6cc3a08af2b683fd98cafff02c0207cdebb512010ad964607\n",
      "Successfully built databricks-cli\n",
      "Installing collected packages: smmap, greenlet, websocket-client, tabulate, sqlalchemy, pywin32, pytz, Mako, importlib-metadata, gitdb, waitress, sqlparse, scipy, querystring-parser, pyyaml, protobuf, prometheus-flask-exporter, pandas, gitpython, docker, databricks-cli, cloudpickle, alembic, mlflow\n",
      "  Attempting uninstall: pywin32\n",
      "    Found existing installation: pywin32 302\n",
      "    Uninstalling pywin32-302:\n",
      "      Successfully uninstalled pywin32-302\n",
      "Successfully installed Mako-1.2.0 alembic-1.7.7 cloudpickle-2.0.0 databricks-cli-0.16.4 docker-5.0.3 gitdb-4.0.9 gitpython-3.1.27 greenlet-1.1.2 importlib-metadata-4.11.3 mlflow-1.24.0 pandas-1.4.1 prometheus-flask-exporter-0.19.0 protobuf-3.19.4 pytz-2022.1 pywin32-227 pyyaml-6.0 querystring-parser-1.2.4 scipy-1.8.0 smmap-5.0.0 sqlalchemy-1.4.32 sqlparse-0.4.2 tabulate-0.8.9 waitress-2.1.1 websocket-client-1.3.2\n"
     ]
    }
   ],
   "source": [
    "!pip install mlflow"
   ]
  },
  {
   "cell_type": "code",
   "execution_count": 10,
   "id": "9a625a48",
   "metadata": {},
   "outputs": [],
   "source": [
    "import mlflow         #install mlflow if not installed using '!pip install mlflow'"
   ]
  },
  {
   "cell_type": "code",
   "execution_count": 11,
   "id": "1a13140c",
   "metadata": {},
   "outputs": [],
   "source": [
    "with mlflow.start_run() as run1:\n",
    "    mlflow.pyspark.ml.autolog()\n",
    "    model = pipeline.fit(training)"
   ]
  },
  {
   "cell_type": "code",
   "execution_count": 12,
   "id": "cb7f25dd",
   "metadata": {},
   "outputs": [],
   "source": [
    "mlflow.end_run()"
   ]
  },
  {
   "cell_type": "code",
   "execution_count": 13,
   "id": "14a96bd1",
   "metadata": {},
   "outputs": [],
   "source": [
    "sc.stop()"
   ]
  },
  {
   "cell_type": "code",
   "execution_count": null,
   "id": "fb50fd31",
   "metadata": {},
   "outputs": [],
   "source": []
  }
 ],
 "metadata": {
  "kernelspec": {
   "display_name": "Python 3 (ipykernel)",
   "language": "python",
   "name": "python3"
  },
  "language_info": {
   "codemirror_mode": {
    "name": "ipython",
    "version": 3
   },
   "file_extension": ".py",
   "mimetype": "text/x-python",
   "name": "python",
   "nbconvert_exporter": "python",
   "pygments_lexer": "ipython3",
   "version": "3.8.12"
  }
 },
 "nbformat": 4,
 "nbformat_minor": 5
}
