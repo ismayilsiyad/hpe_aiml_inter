{
 "cells": [
  {
   "cell_type": "code",
   "execution_count": null,
   "metadata": {
    "id": "C2jtoa8w3xuN"
   },
   "outputs": [],
   "source": [
    "!pip install flask-ngrok\n",
    "#!pip install pyngrok\n",
    "#!ngrok authtoken XXXX_my_authtoken_XXX"
   ]
  },
  {
   "cell_type": "code",
   "execution_count": null,
   "metadata": {
    "id": "nkCGjqSm3y6F"
   },
   "outputs": [
    {
     "name": "stdout",
     "output_type": "stream",
     "text": [
      " * Serving Flask app '__main__'\n",
      " * Debug mode: off\n"
     ]
    },
    {
     "name": "stderr",
     "output_type": "stream",
     "text": [
      "\u001b[31m\u001b[1mWARNING: This is a development server. Do not use it in a production deployment. Use a production WSGI server instead.\u001b[0m\n",
      " * Running on http://127.0.0.1:5000\n",
      "\u001b[33mPress CTRL+C to quit\u001b[0m\n",
      "127.0.0.1 - - [30/Nov/2022 02:00:57] \"GET / HTTP/1.1\" 200 -\n",
      "127.0.0.1 - - [30/Nov/2022 02:00:57] \"GET /static/main.css HTTP/1.1\" 200 -\n",
      "127.0.0.1 - - [30/Nov/2022 02:00:57] \"\u001b[36mGET /static/main.js HTTP/1.1\u001b[0m\" 304 -\n",
      "127.0.0.1 - - [30/Nov/2022 02:00:58] \"\u001b[33mGET /favicon.ico HTTP/1.1\u001b[0m\" 404 -\n",
      "Exception in thread Thread-5:\n",
      "Traceback (most recent call last):\n",
      "  File \"/home/siyad/miniconda3/lib/python3.9/threading.py\", line 973, in _bootstrap_inner\n",
      "    self.run()\n",
      "  File \"/home/siyad/miniconda3/lib/python3.9/threading.py\", line 1299, in run\n",
      "    self.function(*self.args, **self.kwargs)\n",
      "  File \"/home/siyad/miniconda3/lib/python3.9/site-packages/flask_ngrok.py\", line 70, in start_ngrok\n",
      "    ngrok_address = _run_ngrok()\n",
      "  File \"/home/siyad/miniconda3/lib/python3.9/site-packages/flask_ngrok.py\", line 31, in _run_ngrok\n",
      "    ngrok = subprocess.Popen([executable, 'http', '5000'])\n",
      "  File \"/home/siyad/miniconda3/lib/python3.9/subprocess.py\", line 951, in __init__\n",
      "    self._execute_child(args, executable, preexec_fn, close_fds,\n",
      "  File \"/home/siyad/miniconda3/lib/python3.9/subprocess.py\", line 1821, in _execute_child\n",
      "    raise child_exception_type(errno_num, err_msg, err_filename)\n",
      "PermissionError: [Errno 13] Permission denied: '/tmp/ngrok/ngrok'\n",
      "127.0.0.1 - - [30/Nov/2022 02:01:25] \"POST /predict HTTP/1.1\" 200 -\n",
      "127.0.0.1 - - [30/Nov/2022 02:01:46] \"POST /predict HTTP/1.1\" 200 -\n"
     ]
    }
   ],
   "source": [
    "from flask_ngrok import run_with_ngrok\n",
    "from flask import Flask, redirect, url_for, request, render_template, jsonify, Response\n",
    "import re\n",
    "from PIL import Image\n",
    "from io import BytesIO\n",
    "import base64\n",
    "import numpy as np\n",
    "import cv2\n",
    "\n",
    "app = Flask(__name__, template_folder='/home/siyad/my_ML_Projects/hpe_inter/Lab14_local_deployment_onnx/templates', static_folder='/home/siyad/my_ML_Projects/hpe_inter/Lab14_local_deployment_onnx/static')\n",
    "run_with_ngrok(app) \n",
    "\n",
    "@app.route('/', methods=['GET'])\n",
    "def index():\n",
    "    return render_template('index.html')\n",
    "\n",
    "@app.route('/predict', methods=['GET', 'POST'])\n",
    "def predict():\n",
    "    if request.method == 'POST':\n",
    "        image_data = re.sub('^data:image/.+;base64,', '', request.json)\n",
    "        pil_image = Image.open(BytesIO(base64.b64decode(image_data))).convert('RGB')  \n",
    "        label_names = ['airplane', 'automobile', 'bird', 'cat', 'deer', 'dog', 'frog', 'horse', 'ship', 'truck'] \n",
    "        label_names.sort()\n",
    "        net = cv2.dnn.readNetFromONNX('//home/siyad/my_ML_Projects/hpe_inter/Lab14_local_deployment_onnx/model/cifar_classifier.onnx')\n",
    "        img = cv2.resize(np.array(pil_image),(32,32))\n",
    "        img = np.array([img]).astype('float64') / 255.0\n",
    "        net.setInput(img)\n",
    "        out = net.forward()\n",
    "        index = np.argmax(out[0])\n",
    "        label =  label_names[index].capitalize()\n",
    "        return jsonify(result=label)\n",
    "    return None\n",
    "\n",
    "app.run()"
   ]
  },
  {
   "cell_type": "code",
   "execution_count": null,
   "metadata": {},
   "outputs": [],
   "source": []
  }
 ],
 "metadata": {
  "colab": {
   "authorship_tag": "ABX9TyO7nJvBiBfbTyDs5i0l9Exs",
   "collapsed_sections": [],
   "mount_file_id": "1h9sqPvvFq52TTmPZ7lhyYD46ZOV_eB_3",
   "name": "Deploy and Make Predictions with ONNX.ipynb",
   "provenance": []
  },
  "kernelspec": {
   "display_name": "Python 3 (ipykernel)",
   "language": "python",
   "name": "python3"
  },
  "language_info": {
   "codemirror_mode": {
    "name": "ipython",
    "version": 3
   },
   "file_extension": ".py",
   "mimetype": "text/x-python",
   "name": "python",
   "nbconvert_exporter": "python",
   "pygments_lexer": "ipython3",
   "version": "3.9.12"
  }
 },
 "nbformat": 4,
 "nbformat_minor": 1
}
