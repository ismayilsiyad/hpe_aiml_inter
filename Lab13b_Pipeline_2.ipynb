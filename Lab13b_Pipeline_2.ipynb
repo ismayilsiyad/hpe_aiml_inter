{
 "cells": [
  {
   "cell_type": "markdown",
   "metadata": {},
   "source": [
    " <hr />\n",
    " Download the Dataset from the Github or from the link provided below.\n",
    " <hr />"
   ]
  },
  {
   "cell_type": "markdown",
   "metadata": {},
   "source": [
    "https://drive.google.com/file/d/1-TfybHeSWpP9UJLxeNDIFT1CPfxn7XWT/view"
   ]
  },
  {
   "cell_type": "markdown",
   "metadata": {},
   "source": [
    " <hr />\n",
    " Before starting with the notebook ensure pyspark is installed and working. To install and to find the spark use pip install as shown in the below cells.\n",
    "<hr />"
   ]
  },
  {
   "cell_type": "code",
   "execution_count": 1,
   "metadata": {},
   "outputs": [],
   "source": [
    "import findspark"
   ]
  },
  {
   "cell_type": "markdown",
   "metadata": {},
   "source": [
    "<hr />\n",
    "The following command adds the pyspark to sys.path at runtime. If the pyspark is not on the system path by default. It also prints the path of the spark.\n",
    "<hr />"
   ]
  },
  {
   "cell_type": "code",
   "execution_count": 2,
   "metadata": {},
   "outputs": [
    {
     "name": "stdout",
     "output_type": "stream",
     "text": [
      "/opt/spark\n"
     ]
    }
   ],
   "source": [
    "print(findspark.find())\n",
    "findspark.init()"
   ]
  },
  {
   "cell_type": "markdown",
   "metadata": {},
   "source": [
    "<hr />\n",
    "Create a Spark Session\n",
    "<hr />"
   ]
  },
  {
   "cell_type": "code",
   "execution_count": 3,
   "metadata": {},
   "outputs": [
    {
     "name": "stderr",
     "output_type": "stream",
     "text": [
      "22/11/29 15:09:13 WARN Utils: Your hostname, siyad-VirtualBox resolves to a loopback address: 127.0.1.1; using 10.0.2.15 instead (on interface enp0s3)\n",
      "22/11/29 15:09:13 WARN Utils: Set SPARK_LOCAL_IP if you need to bind to another address\n",
      "22/11/29 15:09:14 WARN NativeCodeLoader: Unable to load native-hadoop library for your platform... using builtin-java classes where applicable\n",
      "Using Spark's default log4j profile: org/apache/spark/log4j-defaults.properties\n",
      "Setting default log level to \"WARN\".\n",
      "To adjust logging level use sc.setLogLevel(newLevel). For SparkR, use setLogLevel(newLevel).\n",
      "22/11/29 15:09:16 WARN Utils: Service 'SparkUI' could not bind on port 4040. Attempting port 4041.\n"
     ]
    }
   ],
   "source": [
    "from pyspark.sql import SparkSession\n",
    "\n",
    "spark = SparkSession \\\n",
    "    .builder \\\n",
    "    .appName(\"Pipeline\") \\\n",
    "    .master('local[2]') \\\n",
    "    .getOrCreate()"
   ]
  },
  {
   "cell_type": "markdown",
   "metadata": {},
   "source": [
    "<hr />\n",
    "Read the dataset into a dataframe.\n",
    "<hr />"
   ]
  },
  {
   "cell_type": "code",
   "execution_count": 5,
   "metadata": {},
   "outputs": [
    {
     "name": "stderr",
     "output_type": "stream",
     "text": [
      "\r",
      "[Stage 0:>                                                          (0 + 1) / 1]\r",
      "\r",
      "                                                                                \r"
     ]
    }
   ],
   "source": [
    "df = spark.read.csv(\"/home/siyad/my_ML_Projects/hpe_inter/Data/udemy_dataset.csv\",header=True,inferSchema=True)"
   ]
  },
  {
   "cell_type": "markdown",
   "metadata": {},
   "source": [
    "<hr />\n",
    "Display the dataset.\n",
    "<hr />"
   ]
  },
  {
   "cell_type": "code",
   "execution_count": 6,
   "metadata": {},
   "outputs": [
    {
     "name": "stdout",
     "output_type": "stream",
     "text": [
      "-RECORD 0------------------------------------------------------------------------------------------------\n",
      " _c0                 | 0                                                                                 \n",
      " course_id           | 1070968                                                                           \n",
      " course_title        | Ultimate Investment Banking Course                                                \n",
      " url                 | https://www.udemy.com/ultimate-investment-banking-course/                         \n",
      " is_paid             | True                                                                              \n",
      " price               | 200                                                                               \n",
      " num_subscribers     | 2147                                                                              \n",
      " num_reviews         | 23                                                                                \n",
      " num_lectures        | 51                                                                                \n",
      " level               | All Levels                                                                        \n",
      " content_duration    | 1.5 hours                                                                         \n",
      " published_timestamp | 2017-01-18T20:58:58Z                                                              \n",
      " subject             | Business Finance                                                                  \n",
      " clean_course_title  | Ultimate Investment Banking Course                                                \n",
      "-RECORD 1------------------------------------------------------------------------------------------------\n",
      " _c0                 | 1                                                                                 \n",
      " course_id           | 1113822                                                                           \n",
      " course_title        | Complete GST Course & Certification - Grow Your CA Practice                       \n",
      " url                 | https://www.udemy.com/goods-and-services-tax/                                     \n",
      " is_paid             | True                                                                              \n",
      " price               | 75                                                                                \n",
      " num_subscribers     | 2792                                                                              \n",
      " num_reviews         | 923                                                                               \n",
      " num_lectures        | 274                                                                               \n",
      " level               | All Levels                                                                        \n",
      " content_duration    | 39 hours                                                                          \n",
      " published_timestamp | 2017-03-09T16:34:20Z                                                              \n",
      " subject             | Business Finance                                                                  \n",
      " clean_course_title  | Complete GST Course  Certification  Grow Practice                                 \n",
      "-RECORD 2------------------------------------------------------------------------------------------------\n",
      " _c0                 | 2                                                                                 \n",
      " course_id           | 1006314                                                                           \n",
      " course_title        | Financial Modeling for Business Analysts and Consultants                          \n",
      " url                 | https://www.udemy.com/financial-modeling-for-business-analysts-and-consultants/   \n",
      " is_paid             | True                                                                              \n",
      " price               | 45                                                                                \n",
      " num_subscribers     | 2174                                                                              \n",
      " num_reviews         | 74                                                                                \n",
      " num_lectures        | 51                                                                                \n",
      " level               | Intermediate Level                                                                \n",
      " content_duration    | 2.5 hours                                                                         \n",
      " published_timestamp | 2016-12-19T19:26:30Z                                                              \n",
      " subject             | Business Finance                                                                  \n",
      " clean_course_title  | Financial Modeling Business Analysts Consultants                                  \n",
      "-RECORD 3------------------------------------------------------------------------------------------------\n",
      " _c0                 | 3                                                                                 \n",
      " course_id           | 1210588                                                                           \n",
      " course_title        | Beginner to Pro - Financial Analysis in Excel 2017                                \n",
      " url                 | https://www.udemy.com/complete-excel-finance-course-from-beginner-to-pro/         \n",
      " is_paid             | True                                                                              \n",
      " price               | 95                                                                                \n",
      " num_subscribers     | 2451                                                                              \n",
      " num_reviews         | 11                                                                                \n",
      " num_lectures        | 36                                                                                \n",
      " level               | All Levels                                                                        \n",
      " content_duration    | 3 hours                                                                           \n",
      " published_timestamp | 2017-05-30T20:07:24Z                                                              \n",
      " subject             | Business Finance                                                                  \n",
      " clean_course_title  | Beginner Pro  Financial Analysis Excel 2017                                       \n",
      "-RECORD 4------------------------------------------------------------------------------------------------\n",
      " _c0                 | 4                                                                                 \n",
      " course_id           | 1011058                                                                           \n",
      " course_title        | How To Maximize Your Profits Trading Options                                      \n",
      " url                 | https://www.udemy.com/how-to-maximize-your-profits-trading-options/               \n",
      " is_paid             | True                                                                              \n",
      " price               | 200                                                                               \n",
      " num_subscribers     | 1276                                                                              \n",
      " num_reviews         | 45                                                                                \n",
      " num_lectures        | 26                                                                                \n",
      " level               | Intermediate Level                                                                \n",
      " content_duration    | 2 hours                                                                           \n",
      " published_timestamp | 2016-12-13T14:57:18Z                                                              \n",
      " subject             | Business Finance                                                                  \n",
      " clean_course_title  | Maximize Profits Trading Options                                                  \n",
      "-RECORD 5------------------------------------------------------------------------------------------------\n",
      " _c0                 | 5                                                                                 \n",
      " course_id           | 192870                                                                            \n",
      " course_title        | Trading Penny Stocks: A Guide for All Levels In 2017                              \n",
      " url                 | https://www.udemy.com/trading-penny-stocks-a-guide-for-all-levels/                \n",
      " is_paid             | True                                                                              \n",
      " price               | 150                                                                               \n",
      " num_subscribers     | 9221                                                                              \n",
      " num_reviews         | 138                                                                               \n",
      " num_lectures        | 25                                                                                \n",
      " level               | All Levels                                                                        \n",
      " content_duration    | 3 hours                                                                           \n",
      " published_timestamp | 2014-05-02T15:13:30Z                                                              \n",
      " subject             | Business Finance                                                                  \n",
      " clean_course_title  | Trading Penny Stocks Guide Levels 2017                                            \n",
      "-RECORD 6------------------------------------------------------------------------------------------------\n",
      " _c0                 | 6                                                                                 \n",
      " course_id           | 739964                                                                            \n",
      " course_title        | Investing And Trading For Beginners: Mastering Price Charts                       \n",
      " url                 | https://www.udemy.com/investing-and-trading-for-beginners-mastering-price-charts/ \n",
      " is_paid             | True                                                                              \n",
      " price               | 65                                                                                \n",
      " num_subscribers     | 1540                                                                              \n",
      " num_reviews         | 178                                                                               \n",
      " num_lectures        | 26                                                                                \n",
      " level               | Beginner Level                                                                    \n",
      " content_duration    | 1 hour                                                                            \n",
      " published_timestamp | 2016-02-21T18:23:12Z                                                              \n",
      " subject             | Business Finance                                                                  \n",
      " clean_course_title  | Investing Trading Beginners Mastering Price Charts                                \n",
      "-RECORD 7------------------------------------------------------------------------------------------------\n",
      " _c0                 | 7                                                                                 \n",
      " course_id           | 403100                                                                            \n",
      " course_title        | Trading Stock Chart Patterns For Immediate, Explosive Gains                       \n",
      " url                 | https://www.udemy.com/trading-chart-patterns-for-immediate-explosive-gains/       \n",
      " is_paid             | True                                                                              \n",
      " price               | 95                                                                                \n",
      " num_subscribers     | 2917                                                                              \n",
      " num_reviews         | 148                                                                               \n",
      " num_lectures        | 23                                                                                \n",
      " level               | All Levels                                                                        \n",
      " content_duration    | 2.5 hours                                                                         \n",
      " published_timestamp | 2015-01-30T22:13:03Z                                                              \n",
      " subject             | Business Finance                                                                  \n",
      " clean_course_title  | Trading Stock Chart Patterns Immediate Explosive Gains                            \n",
      "-RECORD 8------------------------------------------------------------------------------------------------\n",
      " _c0                 | 8                                                                                 \n",
      " course_id           | 476268                                                                            \n",
      " course_title        | Options Trading 3 : Advanced Stock Profit and Success Method                      \n",
      " url                 | https://www.udemy.com/day-trading-stock-options-3/                                \n",
      " is_paid             | True                                                                              \n",
      " price               | 195                                                                               \n",
      " num_subscribers     | 5172                                                                              \n",
      " num_reviews         | 34                                                                                \n",
      " num_lectures        | 38                                                                                \n",
      " level               | Expert Level                                                                      \n",
      " content_duration    | 2.5 hours                                                                         \n",
      " published_timestamp | 2015-05-28T00:14:03Z                                                              \n",
      " subject             | Business Finance                                                                  \n",
      " clean_course_title  | Options Trading 3  Advanced Stock Profit Success Method                           \n",
      "-RECORD 9------------------------------------------------------------------------------------------------\n",
      " _c0                 | 9                                                                                 \n",
      " course_id           | 1167710                                                                           \n",
      " course_title        | The Only Investment Strategy You Need For Your Retirement                         \n",
      " url                 | https://www.udemy.com/the-only-investment-strategy-you-need-for-your-retirement/  \n",
      " is_paid             | True                                                                              \n",
      " price               | 200                                                                               \n",
      " num_subscribers     | 827                                                                               \n",
      " num_reviews         | 14                                                                                \n",
      " num_lectures        | 15                                                                                \n",
      " level               | All Levels                                                                        \n",
      " content_duration    | 1 hour                                                                            \n",
      " published_timestamp | 2017-04-18T18:13:32Z                                                              \n",
      " subject             | Business Finance                                                                  \n",
      " clean_course_title  | Investment Strategy Need Retirement                                               \n",
      "-RECORD 10-----------------------------------------------------------------------------------------------\n",
      " _c0                 | 10                                                                                \n",
      " course_id           | 592338                                                                            \n",
      " course_title        | Forex Trading Secrets of the Pros With Amazon's AWS                               \n",
      " url                 | https://www.udemy.com/trading-with-amazons-aws-servers-trade-secrets-of-the-pros/ \n",
      " is_paid             | True                                                                              \n",
      " price               | 200                                                                               \n",
      " num_subscribers     | 4284                                                                              \n",
      " num_reviews         | 93                                                                                \n",
      " num_lectures        | 76                                                                                \n",
      " level               | All Levels                                                                        \n",
      " content_duration    | 5 hours                                                                           \n",
      " published_timestamp | 2015-09-11T16:47:02Z                                                              \n",
      " subject             | Business Finance                                                                  \n",
      " clean_course_title  | Forex Trading Secrets Pros Amazons AWS                                            \n",
      "-RECORD 11-----------------------------------------------------------------------------------------------\n",
      " _c0                 | 11                                                                                \n",
      " course_id           | 975046                                                                            \n",
      " course_title        | Trading Options With Money Flow                                                   \n",
      " url                 | https://www.udemy.com/trading-options-using-money-flow/                           \n",
      " is_paid             | True                                                                              \n",
      " price               | 200                                                                               \n",
      " num_subscribers     | 1380                                                                              \n",
      " num_reviews         | 42                                                                                \n",
      " num_lectures        | 17                                                                                \n",
      " level               | All Levels                                                                        \n",
      " content_duration    | 1 hour                                                                            \n",
      " published_timestamp | 2016-10-18T22:52:31Z                                                              \n",
      " subject             | Business Finance                                                                  \n",
      " clean_course_title  | Trading Options Money Flow                                                        \n",
      "-RECORD 12-----------------------------------------------------------------------------------------------\n",
      " _c0                 | 12                                                                                \n",
      " course_id           | 742602                                                                            \n",
      " course_title        | Financial Management Risk and Return For Securities                               \n",
      " url                 | https://www.udemy.com/risk-and-return-finance/                                    \n",
      " is_paid             | True                                                                              \n",
      " price               | 30                                                                                \n",
      " num_subscribers     | 3607                                                                              \n",
      " num_reviews         | 21                                                                                \n",
      " num_lectures        | 19                                                                                \n",
      " level               | All Levels                                                                        \n",
      " content_duration    | 1.5 hours                                                                         \n",
      " published_timestamp | 2016-02-03T18:04:01Z                                                              \n",
      " subject             | Business Finance                                                                  \n",
      " clean_course_title  | Financial Management Risk Return Securities                                       \n",
      "-RECORD 13-----------------------------------------------------------------------------------------------\n",
      " _c0                 | 13                                                                                \n",
      " course_id           | 794151                                                                            \n",
      " course_title        | Forex Trading Course: Work Smarter Not Harder Proven Results                      \n",
      " url                 | https://www.udemy.com/the-complete-trading-course/                                \n",
      " is_paid             | True                                                                              \n",
      " price               | 195                                                                               \n",
      " num_subscribers     | 4061                                                                              \n",
      " num_reviews         | 52                                                                                \n",
      " num_lectures        | 16                                                                                \n",
      " level               | All Levels                                                                        \n",
      " content_duration    | 2 hours                                                                           \n",
      " published_timestamp | 2016-03-16T15:40:19Z                                                              \n",
      " subject             | Business Finance                                                                  \n",
      " clean_course_title  | Forex Trading Course Work Smarter Harder Proven Results                           \n",
      "-RECORD 14-----------------------------------------------------------------------------------------------\n",
      " _c0                 | 14                                                                                \n",
      " course_id           | 1196544                                                                           \n",
      " course_title        | Python Algo Trading: Sentiment Trading with News                                  \n",
      " url                 | https://www.udemy.com/hedge-fund-strategy-trading-with-sentiment-analysis/        \n",
      " is_paid             | True                                                                              \n",
      " price               | 200                                                                               \n",
      " num_subscribers     | 294                                                                               \n",
      " num_reviews         | 19                                                                                \n",
      " num_lectures        | 42                                                                                \n",
      " level               | All Levels                                                                        \n",
      " content_duration    | 7 hours                                                                           \n",
      " published_timestamp | 2017-04-28T16:41:44Z                                                              \n",
      " subject             | Business Finance                                                                  \n",
      " clean_course_title  | Python Algo Trading Sentiment Trading News                                        \n",
      "-RECORD 15-----------------------------------------------------------------------------------------------\n",
      " _c0                 | 15                                                                                \n",
      " course_id           | 504036                                                                            \n",
      " course_title        | Short Selling: Learn To Sell Stocks Before The Fall                               \n",
      " url                 | https://www.udemy.com/short-selling-learn-to-sell-before-the-fall/                \n",
      " is_paid             | True                                                                              \n",
      " price               | 75                                                                                \n",
      " num_subscribers     | 2276                                                                              \n",
      " num_reviews         | 106                                                                               \n",
      " num_lectures        | 19                                                                                \n",
      " level               | Intermediate Level                                                                \n",
      " content_duration    | 1.5 hours                                                                         \n",
      " published_timestamp | 2015-06-22T21:18:35Z                                                              \n",
      " subject             | Business Finance                                                                  \n",
      " clean_course_title  | Short Selling Learn Sell Stocks Fall                                              \n",
      "-RECORD 16-----------------------------------------------------------------------------------------------\n",
      " _c0                 | 16                                                                                \n",
      " course_id           | 719698                                                                            \n",
      " course_title        | Basic Technical Analysis: Learn the structure of the market                       \n",
      " url                 | https://www.udemy.com/learn-basic-technical-analysis/                             \n",
      " is_paid             | True                                                                              \n",
      " price               | 20                                                                                \n",
      " num_subscribers     | 4919                                                                              \n",
      " num_reviews         | 79                                                                                \n",
      " num_lectures        | 16                                                                                \n",
      " level               | Beginner Level                                                                    \n",
      " content_duration    | 1.5 hours                                                                         \n",
      " published_timestamp | 2016-01-08T17:21:26Z                                                              \n",
      " subject             | Business Finance                                                                  \n",
      " clean_course_title  | Basic Technical Analysis Learn structure market                                   \n",
      "-RECORD 17-----------------------------------------------------------------------------------------------\n",
      " _c0                 | 17                                                                                \n",
      " course_id           | 564966                                                                            \n",
      " course_title        | The Complete Chart Pattern Trading Course: A Proven Approach                      \n",
      " url                 | https://www.udemy.com/make-money-trading-stocks-from-home/                        \n",
      " is_paid             | True                                                                              \n",
      " price               | 200                                                                               \n",
      " num_subscribers     | 2666                                                                              \n",
      " num_reviews         | 115                                                                               \n",
      " num_lectures        | 52                                                                                \n",
      " level               | All Levels                                                                        \n",
      " content_duration    | 4 hours                                                                           \n",
      " published_timestamp | 2015-08-10T21:07:35Z                                                              \n",
      " subject             | Business Finance                                                                  \n",
      " clean_course_title  | Complete Chart Pattern Trading Course Proven Approach                             \n",
      "-RECORD 18-----------------------------------------------------------------------------------------------\n",
      " _c0                 | 18                                                                                \n",
      " course_id           | 606928                                                                            \n",
      " course_title        | 7 Deadly Mistakes of Investing that Will Slash Your Profits!                      \n",
      " url                 | https://www.udemy.com/7-deadly-mistakes-of-investing/                             \n",
      " is_paid             | True                                                                              \n",
      " price               | 50                                                                                \n",
      " num_subscribers     | 5354                                                                              \n",
      " num_reviews         | 24                                                                                \n",
      " num_lectures        | 23                                                                                \n",
      " level               | All Levels                                                                        \n",
      " content_duration    | 1.5 hours                                                                         \n",
      " published_timestamp | 2015-09-21T18:10:34Z                                                              \n",
      " subject             | Business Finance                                                                  \n",
      " clean_course_title  | 7 Deadly Mistakes Investing Slash Profits                                         \n",
      "-RECORD 19-----------------------------------------------------------------------------------------------\n",
      " _c0                 | 19                                                                                \n",
      " course_id           | 58977                                                                             \n",
      " course_title        | Financial Statements Made Easy                                                    \n",
      " url                 | https://www.udemy.com/intro-to-financial-statements-for-entrepreneurs/            \n",
      " is_paid             | True                                                                              \n",
      " price               | 95                                                                                \n",
      " num_subscribers     | 8095                                                                              \n",
      " num_reviews         | 249                                                                               \n",
      " num_lectures        | 12                                                                                \n",
      " level               | Beginner Level                                                                    \n",
      " content_duration    | 35 mins                                                                           \n",
      " published_timestamp | 2013-06-09T00:21:26Z                                                              \n",
      " subject             | Business Finance                                                                  \n",
      " clean_course_title  | Financial Statements Easy                                                         \n",
      "only showing top 20 rows\n",
      "\n"
     ]
    },
    {
     "name": "stderr",
     "output_type": "stream",
     "text": [
      "22/11/29 15:12:38 WARN CSVHeaderChecker: CSV header does not conform to the schema.\n",
      " Header: , course_id, course_title, url, is_paid, price, num_subscribers, num_reviews, num_lectures, level, content_duration, published_timestamp, subject, clean_course_title\n",
      " Schema: _c0, course_id, course_title, url, is_paid, price, num_subscribers, num_reviews, num_lectures, level, content_duration, published_timestamp, subject, clean_course_title\n",
      "Expected: _c0 but found: \n",
      "CSV file: file:///home/siyad/my_ML_Projects/hpe_inter/Data/udemy_dataset.csv\n"
     ]
    }
   ],
   "source": [
    "df.show(truncate=False, vertical=True)"
   ]
  },
  {
   "cell_type": "markdown",
   "metadata": {},
   "source": [
    "<hr />\n",
    "Select the required input columns used for prediction.\n",
    "<hr />"
   ]
  },
  {
   "cell_type": "code",
   "execution_count": 7,
   "metadata": {},
   "outputs": [
    {
     "name": "stdout",
     "output_type": "stream",
     "text": [
      "+------------------------------------------------------------+----------------+\n",
      "|course_title                                                |subject         |\n",
      "+------------------------------------------------------------+----------------+\n",
      "|Ultimate Investment Banking Course                          |Business Finance|\n",
      "|Complete GST Course & Certification - Grow Your CA Practice |Business Finance|\n",
      "|Financial Modeling for Business Analysts and Consultants    |Business Finance|\n",
      "|Beginner to Pro - Financial Analysis in Excel 2017          |Business Finance|\n",
      "|How To Maximize Your Profits Trading Options                |Business Finance|\n",
      "|Trading Penny Stocks: A Guide for All Levels In 2017        |Business Finance|\n",
      "|Investing And Trading For Beginners: Mastering Price Charts |Business Finance|\n",
      "|Trading Stock Chart Patterns For Immediate, Explosive Gains |Business Finance|\n",
      "|Options Trading 3 : Advanced Stock Profit and Success Method|Business Finance|\n",
      "|The Only Investment Strategy You Need For Your Retirement   |Business Finance|\n",
      "|Forex Trading Secrets of the Pros With Amazon's AWS         |Business Finance|\n",
      "|Trading Options With Money Flow                             |Business Finance|\n",
      "|Financial Management Risk and Return For Securities         |Business Finance|\n",
      "|Forex Trading Course: Work Smarter Not Harder Proven Results|Business Finance|\n",
      "|Python Algo Trading: Sentiment Trading with News            |Business Finance|\n",
      "|Short Selling: Learn To Sell Stocks Before The Fall         |Business Finance|\n",
      "|Basic Technical Analysis: Learn the structure of the market |Business Finance|\n",
      "|The Complete Chart Pattern Trading Course: A Proven Approach|Business Finance|\n",
      "|7 Deadly Mistakes of Investing that Will Slash Your Profits!|Business Finance|\n",
      "|Financial Statements Made Easy                              |Business Finance|\n",
      "+------------------------------------------------------------+----------------+\n",
      "only showing top 20 rows\n",
      "\n"
     ]
    }
   ],
   "source": [
    "df = df.select('course_title','subject')\n",
    "df.show(truncate=False)"
   ]
  },
  {
   "cell_type": "markdown",
   "metadata": {},
   "source": [
    "<hr />\n",
    "Determine the count of records in the dataset.\n",
    "<hr />"
   ]
  },
  {
   "cell_type": "code",
   "execution_count": null,
   "metadata": {},
   "outputs": [],
   "source": [
    "df.count()"
   ]
  },
  {
   "cell_type": "markdown",
   "metadata": {},
   "source": [
    "<hr />\n",
    "Drop the rows with Null values.\n",
    "<hr />"
   ]
  },
  {
   "cell_type": "code",
   "execution_count": null,
   "metadata": {},
   "outputs": [],
   "source": [
    "df.toPandas()['subject'].isnull().sum()\n",
    "df = df.dropna(subset=('subject'))\n",
    "df.count()"
   ]
  },
  {
   "cell_type": "markdown",
   "metadata": {},
   "source": [
    "<hr />\n",
    "Split the dataset into Training and Testing.\n",
    "<hr />"
   ]
  },
  {
   "cell_type": "code",
   "execution_count": null,
   "metadata": {},
   "outputs": [],
   "source": [
    "(trainDF,testDF) = df.randomSplit((0.7,0.3),seed=42)"
   ]
  },
  {
   "cell_type": "markdown",
   "metadata": {},
   "source": [
    "<hr />\n",
    "Import the pyspark modules required for pre-processing the data. <br>\n",
    "1. Tokenizer : To create tokens from the sentence <br>\n",
    "2. StopWordsRemover : To remove the stop words in the sentence <br>\n",
    "3. CountVectorizer : Extracts a vocabulary from dataset and generates a vectorized model with the count of occurance <br>\n",
    "4. IDF : Compute the Inverse Document Frequency (IDF) given a dataset. <br>\n",
    "5. StringIndexer : A label indexer that maps a string column of labels to an ML column of label indices. <br>\n",
    "<hr />"
   ]
  },
  {
   "cell_type": "code",
   "execution_count": null,
   "metadata": {},
   "outputs": [],
   "source": [
    "from pyspark.ml.feature import Tokenizer,StopWordsRemover,CountVectorizer,IDF\n",
    "from pyspark.ml.feature import StringIndexer"
   ]
  },
  {
   "cell_type": "markdown",
   "metadata": {},
   "source": [
    "<hr />\n",
    "Initialzie the Estimators and Transformers.\n",
    "<hr />"
   ]
  },
  {
   "cell_type": "code",
   "execution_count": null,
   "metadata": {},
   "outputs": [],
   "source": [
    "tokenizer = Tokenizer(inputCol='course_title',outputCol='mytokens')\n",
    "stopwords_remover = StopWordsRemover(inputCol='mytokens',outputCol='filtered_tokens')\n",
    "vectorizer = CountVectorizer(inputCol='filtered_tokens',outputCol='rawFeatures')\n",
    "idf = IDF(inputCol='rawFeatures',outputCol='vectorizedFeatures')"
   ]
  },
  {
   "cell_type": "code",
   "execution_count": null,
   "metadata": {},
   "outputs": [],
   "source": [
    "labelEncoder = StringIndexer(inputCol='subject',outputCol='label')"
   ]
  },
  {
   "cell_type": "markdown",
   "metadata": {},
   "source": [
    "<hr />\n",
    "Import the pyspark modules required for training the model.\n",
    "<hr />"
   ]
  },
  {
   "cell_type": "code",
   "execution_count": null,
   "metadata": {},
   "outputs": [],
   "source": [
    "from pyspark.ml.classification import LogisticRegression"
   ]
  },
  {
   "cell_type": "code",
   "execution_count": null,
   "metadata": {},
   "outputs": [],
   "source": [
    "lr = LogisticRegression(featuresCol='vectorizedFeatures',labelCol='label')"
   ]
  },
  {
   "cell_type": "markdown",
   "metadata": {},
   "source": [
    "<hr />\n",
    "Create a Pipeline.\n",
    "<hr />"
   ]
  },
  {
   "cell_type": "code",
   "execution_count": null,
   "metadata": {},
   "outputs": [],
   "source": [
    "from pyspark.ml import Pipeline "
   ]
  },
  {
   "cell_type": "code",
   "execution_count": null,
   "metadata": {},
   "outputs": [],
   "source": [
    "pipeline = Pipeline(stages=[tokenizer,stopwords_remover,vectorizer,idf,labelEncoder,lr])"
   ]
  },
  {
   "cell_type": "markdown",
   "metadata": {},
   "source": [
    "<hr />\n",
    "Call the fit function for executing the pipeline and generating the trained model.\n",
    "<hr />"
   ]
  },
  {
   "cell_type": "code",
   "execution_count": null,
   "metadata": {},
   "outputs": [],
   "source": [
    "lr_model = pipeline.fit(trainDF)"
   ]
  },
  {
   "cell_type": "markdown",
   "metadata": {},
   "source": [
    "<hr />\n",
    "Display the Stages of the pipeline.\n",
    "<hr />"
   ]
  },
  {
   "cell_type": "code",
   "execution_count": null,
   "metadata": {},
   "outputs": [],
   "source": [
    "lr_model.stages"
   ]
  },
  {
   "cell_type": "markdown",
   "metadata": {},
   "source": [
    "<hr />\n",
    "Use the pipeline to generate predictions for the test data.\n",
    "<hr />"
   ]
  },
  {
   "cell_type": "code",
   "execution_count": null,
   "metadata": {},
   "outputs": [],
   "source": [
    "predictions = lr_model.transform(testDF.select('course_title'))"
   ]
  },
  {
   "cell_type": "markdown",
   "metadata": {},
   "source": [
    "<hr />\n",
    "Display the predictions.\n",
    "<hr />"
   ]
  },
  {
   "cell_type": "code",
   "execution_count": null,
   "metadata": {},
   "outputs": [],
   "source": [
    "predictions.show(vertical=True)"
   ]
  },
  {
   "cell_type": "code",
   "execution_count": null,
   "metadata": {},
   "outputs": [],
   "source": [
    "predictions = lr_model.transform(testDF)\n",
    "predictions.show(vertical=True)"
   ]
  },
  {
   "cell_type": "code",
   "execution_count": null,
   "metadata": {},
   "outputs": [],
   "source": [
    "spark.stop()"
   ]
  }
 ],
 "metadata": {
  "interpreter": {
   "hash": "918816dcb90eb2f409d280fd921ab35213362b65b31855a310672842d91a763f"
  },
  "kernelspec": {
   "display_name": "Python 3 (ipykernel)",
   "language": "python",
   "name": "python3"
  },
  "language_info": {
   "codemirror_mode": {
    "name": "ipython",
    "version": 3
   },
   "file_extension": ".py",
   "mimetype": "text/x-python",
   "name": "python",
   "nbconvert_exporter": "python",
   "pygments_lexer": "ipython3",
   "version": "3.9.12"
  }
 },
 "nbformat": 4,
 "nbformat_minor": 2
}
